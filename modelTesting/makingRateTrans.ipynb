{
 "cells": [
  {
   "cell_type": "code",
   "execution_count": 2,
   "metadata": {},
   "outputs": [
    {
     "name": "stderr",
     "output_type": "stream",
     "text": [
      "/Users/arataNonami/opt/anaconda3/lib/python3.7/site-packages/IPython/html.py:14: ShimWarning: The `IPython.html` package has been deprecated since IPython 4.0. You should import from `notebook` instead. `IPython.html.widgets` has moved to `ipywidgets`.\n",
      "  \"`IPython.html.widgets` has moved to `ipywidgets`.\", ShimWarning)\n"
     ]
    }
   ],
   "source": [
    "import pandas as pd\n",
    "import numpy as np\n",
    "from scipy import stats\n",
    "\n",
    "import os\n",
    "import csv\n",
    "\n",
    "import matplotlib.pyplot as plt\n",
    "import seaborn as sns\n",
    "from ptitprince import PtitPrince as pt\n",
    "\n",
    "\n",
    "from IPython.html.widgets import interact, interactive, fixed\n",
    "from IPython.html import widgets\n",
    "\n",
    "import random as rd\n",
    "import math\n",
    "from decimal import Decimal, ROUND_HALF_UP, ROUND_HALF_EVEN"
   ]
  },
  {
   "cell_type": "code",
   "execution_count": 4,
   "metadata": {},
   "outputs": [
    {
     "ename": "NameError",
     "evalue": "name 'values' is not defined",
     "output_type": "error",
     "traceback": [
      "\u001b[0;31m---------------------------------------------------------------------------\u001b[0m",
      "\u001b[0;31mNameError\u001b[0m                                 Traceback (most recent call last)",
      "\u001b[0;32m<ipython-input-4-fb7272672c80>\u001b[0m in \u001b[0;36m<module>\u001b[0;34m\u001b[0m\n\u001b[1;32m      1\u001b[0m \u001b[0;32mimport\u001b[0m \u001b[0mnumpy\u001b[0m \u001b[0;32mas\u001b[0m \u001b[0mnp\u001b[0m\u001b[0;34m\u001b[0m\u001b[0;34m\u001b[0m\u001b[0m\n\u001b[1;32m      2\u001b[0m \u001b[0;34m\u001b[0m\u001b[0m\n\u001b[0;32m----> 3\u001b[0;31m \u001b[0mvalues\u001b[0m\u001b[0;34m.\u001b[0m\u001b[0mupdate\u001b[0m\u001b[0;34m(\u001b[0m\u001b[0mn\u001b[0m\u001b[0;34m,\u001b[0m \u001b[0mreward\u001b[0m\u001b[0;34m)\u001b[0m\u001b[0;34m\u001b[0m\u001b[0;34m\u001b[0m\u001b[0m\n\u001b[0m\u001b[1;32m      4\u001b[0m \u001b[0;34m\u001b[0m\u001b[0m\n\u001b[1;32m      5\u001b[0m \u001b[0;34m\u001b[0m\u001b[0m\n",
      "\u001b[0;31mNameError\u001b[0m: name 'values' is not defined"
     ]
    }
   ],
   "source": [
    "import numpy as np\n",
    "\n",
    "values.update(n, reward)\n",
    "\n",
    "\n",
    "class Values:\n",
    "    val =  np.zeros(8)\n",
    "    def __init__(self, n):\n",
    "        self.val = np.zeros(n)\n",
    "    \n",
    "    # \n",
    "    def update(self, n, reward):\n",
    "        v_t = self.val[n]\n",
    "        self.val[n] = v_t + self.alpha * (reward - v_t)\n",
    "        \n",
    "    def my_print(self):\n",
    "        print(self.val)\n",
    "        \n",
    "        "
   ]
  },
  {
   "cell_type": "code",
   "execution_count": 5,
   "metadata": {},
   "outputs": [
    {
     "ename": "FileNotFoundError",
     "evalue": "[Errno 2] No such file or directory: 'TestCsv/sample_writer_row.csv'",
     "output_type": "error",
     "traceback": [
      "\u001b[0;31m---------------------------------------------------------------------------\u001b[0m",
      "\u001b[0;31mFileNotFoundError\u001b[0m                         Traceback (most recent call last)",
      "\u001b[0;32m<ipython-input-5-99bf298078bf>\u001b[0m in \u001b[0;36m<module>\u001b[0;34m\u001b[0m\n\u001b[1;32m     10\u001b[0m \u001b[0;32mimport\u001b[0m \u001b[0mnumpy\u001b[0m \u001b[0;32mas\u001b[0m \u001b[0mnp\u001b[0m\u001b[0;34m\u001b[0m\u001b[0;34m\u001b[0m\u001b[0m\n\u001b[1;32m     11\u001b[0m \u001b[0;34m\u001b[0m\u001b[0m\n\u001b[0;32m---> 12\u001b[0;31m \u001b[0;32mwith\u001b[0m \u001b[0mopen\u001b[0m\u001b[0;34m(\u001b[0m\u001b[0;34m'TestCsv/sample_writer_row.csv'\u001b[0m\u001b[0;34m,\u001b[0m \u001b[0;34m'w'\u001b[0m\u001b[0;34m)\u001b[0m \u001b[0;32mas\u001b[0m \u001b[0mf\u001b[0m\u001b[0;34m:\u001b[0m\u001b[0;34m\u001b[0m\u001b[0;34m\u001b[0m\u001b[0m\n\u001b[0m\u001b[1;32m     13\u001b[0m     \u001b[0mwriter\u001b[0m \u001b[0;34m=\u001b[0m \u001b[0mcsv\u001b[0m\u001b[0;34m.\u001b[0m\u001b[0mwriter\u001b[0m\u001b[0;34m(\u001b[0m\u001b[0mf\u001b[0m\u001b[0;34m)\u001b[0m\u001b[0;34m\u001b[0m\u001b[0;34m\u001b[0m\u001b[0m\n\u001b[1;32m     14\u001b[0m     \u001b[0mwriter\u001b[0m\u001b[0;34m.\u001b[0m\u001b[0mwriterow\u001b[0m\u001b[0;34m(\u001b[0m\u001b[0;34m[\u001b[0m\u001b[0;36m0\u001b[0m\u001b[0;34m,\u001b[0m \u001b[0;36m1\u001b[0m\u001b[0;34m,\u001b[0m \u001b[0;36m2\u001b[0m\u001b[0;34m]\u001b[0m\u001b[0;34m)\u001b[0m\u001b[0;34m\u001b[0m\u001b[0;34m\u001b[0m\u001b[0m\n",
      "\u001b[0;31mFileNotFoundError\u001b[0m: [Errno 2] No such file or directory: 'TestCsv/sample_writer_row.csv'"
     ]
    }
   ],
   "source": [
    "# ここに、書く。\n",
    "# 何かを、書く。\n",
    "# 確率の推移を、生成する。\n",
    "# ランダムウォーク。\n",
    "# 合計が　3　になるように\n",
    "\n",
    "\n",
    "import csv\n",
    "import pprint\n",
    "import numpy as np\n",
    "\n",
    "with open('TestCsv/sample_writer_row.csv', 'w') as f:\n",
    "    writer = csv.writer(f)\n",
    "    writer.writerow([0, 1, 2])\n",
    "    writer.writerow(['a', 'b', 'c'])\n",
    "with open('TestCsv/sample_writer_row.csv', 'w') as f:\n",
    "    writer = csv.writer(f)\n",
    "    writer.writerow([0, 1, 2])\n",
    "    writer.writerow(np.array(['a', 'b', 'c']))\n",
    "\n",
    "with open('TestCsv/sample_writer_row.csv', 'a') as f:\n",
    "    writer = csv.writer(f)\n",
    "    writer.writerow(np.array([0, 1, 2]))\n",
    "    writer.writerow(np.array(['a', 'b', 'c']))\n",
    "    \n",
    "with open('TestCsv/sample_writer_row.csv') as f:\n",
    "    print(f.read())"
   ]
  },
  {
   "cell_type": "code",
   "execution_count": 6,
   "metadata": {},
   "outputs": [
    {
     "name": "stdout",
     "output_type": "stream",
     "text": [
      "[13 86  1]\n",
      "13\n",
      "[14 88  4]\n"
     ]
    }
   ],
   "source": [
    "import random as rd\n",
    "import numpy as np\n",
    "\n",
    "def makeInitVal():\n",
    "    a = rd.randint(0, 100)\n",
    "    b = rd.randint(0, 100 - a)\n",
    "    c = 100 - a -b\n",
    "    return np.array([a, b, c])\n",
    "\n",
    "a = makeInitVal() \n",
    "print(a)\n",
    "print(a[0])\n",
    "print(a + np.array([1, 2, 3]))\n"
   ]
  },
  {
   "cell_type": "code",
   "execution_count": 7,
   "metadata": {},
   "outputs": [],
   "source": [
    "\n",
    "\n",
    "times = 30\n",
    "\n",
    "def makeInitVal():\n",
    "    a = rd.randint(0, 100)\n",
    "    b = rd.randint(0, 100 - a)\n",
    "    c = 100 - a -b\n",
    "    return np.array([a, b, c])\n",
    "\n",
    "def makeInitVal2(): # one starts from 80%\n",
    "    a = 80\n",
    "    b = rd.randint(0,20)\n",
    "    c = 100-a-b\n",
    "    return np.array([a,b,c])\n",
    "\n",
    "def makeZeroSumRandomWalk(size):\n",
    "    a = rd.randint(-size, size)\n",
    "    b = rd.randint(max(-size-a, -size),  min(size, size-a))\n",
    "    c = 0 - a - b\n",
    "    return np.array([a, b, c])\n",
    "\n",
    "def makeRandIndGauss(sd):\n",
    "    return int(Decimal(str(rd.gauss(0,sd))).quantize(Decimal('0'), rounding=ROUND_HALF_UP))\n",
    "\n",
    "def makeZeroSumGaussRandomWalk(size, sd):\n",
    "    a = makeRandIndGauss(sd)\n",
    "    b = makeRandIndGauss(sd)\n",
    "    c = 0 - a - b\n",
    "    return np.array([a, b, c])\n",
    "\n",
    "def randomWalk(base, size,sd):\n",
    "    while True:\n",
    "        added = base + makeZeroSumGaussRandomWalk(size, sd)\n",
    "        if (np.all(np.array([0,0,0]) <= added) and np.all(added <= np.array([100,100,100]))):\n",
    "            return added\n",
    "\n",
    "def makeTable(i, trials, walkSize, sd):\n",
    "    arr = []\n",
    "    with open('rate/rateTable_size'+ str(walkSize) + '_' + str(trials) + 'trials_' + str(i).zfill(3) + '.csv', 'w',  encoding='utf-8') as f:\n",
    "        writer = csv.writer(f)\n",
    "        lastRow = makeInitVal2();\n",
    "        arr.append(lastRow)\n",
    "        for j in range(trials - 1):\n",
    "            lastRow =  randomWalk(lastRow, walkSize, sd)\n",
    "            arr.append(lastRow)\n",
    "        arr = np.array(arr).transpose()\n",
    "        #arr = smooth2d(arr)\n",
    "        writer.writerow(arr[0])\n",
    "        writer.writerow(arr[1])\n",
    "        writer.writerow(arr[2])\n",
    "    return\n",
    "\n",
    "\n",
    "\n",
    "\n",
    "def get_file_name(path):\n",
    "    files = []\n",
    "    for filename in os.listdir(path):\n",
    "        files.append(os.path.join(path, filename))\n",
    "    return files\n",
    "\n",
    "\n",
    "def smooth(arr):\n",
    "    ret = []\n",
    "    for i in range(len(arr)):\n",
    "        ret.append(math.floor(np.mean(arr[max(0,i-3):min(len(arr)-1, i+3)])))\n",
    "    return ret\n",
    "\n",
    "def smooth2d(mat):\n",
    "    for i in range(len(mat)):\n",
    "        mat[i] = smooth(mat[i])\n",
    "    return mat\n",
    "\n",
    "        "
   ]
  },
  {
   "cell_type": "code",
   "execution_count": null,
   "metadata": {},
   "outputs": [],
   "source": [
    "# test smooth()\n"
   ]
  },
  {
   "cell_type": "code",
   "execution_count": null,
   "metadata": {},
   "outputs": [],
   "source": []
  },
  {
   "cell_type": "code",
   "execution_count": 3,
   "metadata": {},
   "outputs": [
    {
     "ename": "NameError",
     "evalue": "name 'makeTable' is not defined",
     "output_type": "error",
     "traceback": [
      "\u001b[0;31m---------------------------------------------------------------------------\u001b[0m",
      "\u001b[0;31mNameError\u001b[0m                                 Traceback (most recent call last)",
      "\u001b[0;32m<ipython-input-3-269a05ef53a1>\u001b[0m in \u001b[0;36m<module>\u001b[0;34m\u001b[0m\n\u001b[1;32m      2\u001b[0m \u001b[0msd\u001b[0m \u001b[0;34m=\u001b[0m\u001b[0;36m5.5\u001b[0m\u001b[0;34m\u001b[0m\u001b[0;34m\u001b[0m\u001b[0m\n\u001b[1;32m      3\u001b[0m \u001b[0;32mfor\u001b[0m \u001b[0mi\u001b[0m \u001b[0;32min\u001b[0m \u001b[0mrange\u001b[0m\u001b[0;34m(\u001b[0m\u001b[0;36m300\u001b[0m\u001b[0;34m)\u001b[0m\u001b[0;34m:\u001b[0m\u001b[0;34m\u001b[0m\u001b[0;34m\u001b[0m\u001b[0m\n\u001b[0;32m----> 4\u001b[0;31m     \u001b[0mmakeTable\u001b[0m\u001b[0;34m(\u001b[0m\u001b[0mi\u001b[0m\u001b[0;34m,\u001b[0m \u001b[0;36m300\u001b[0m\u001b[0;34m,\u001b[0m \u001b[0;36m20\u001b[0m\u001b[0;34m,\u001b[0m \u001b[0msd\u001b[0m\u001b[0;34m)\u001b[0m\u001b[0;34m\u001b[0m\u001b[0;34m\u001b[0m\u001b[0m\n\u001b[0m\u001b[1;32m      5\u001b[0m \u001b[0;31m#\u001b[0m\u001b[0;34m\u001b[0m\u001b[0;34m\u001b[0m\u001b[0;34m\u001b[0m\u001b[0m\n",
      "\u001b[0;31mNameError\u001b[0m: name 'makeTable' is not defined"
     ]
    }
   ],
   "source": [
    "# 確率推移のグラフを作る\n",
    "sd =5.5\n",
    "for i in range(300):\n",
    "    makeTable(i, 300, 20, sd)\n",
    "#"
   ]
  },
  {
   "cell_type": "code",
   "execution_count": 8,
   "metadata": {
    "collapsed": true
   },
   "outputs": [
    {
     "name": "stdout",
     "output_type": "stream",
     "text": [
      "['rate/.DS_Store', 'rate/rateTable_size20_300trials_000.csv', 'rate/rateTable_size20_300trials_001.csv', 'rate/rateTable_size20_300trials_002.csv', 'rate/rateTable_size20_300trials_003.csv', 'rate/rateTable_size20_300trials_004.csv', 'rate/rateTable_size20_300trials_005.csv', 'rate/rateTable_size20_300trials_006.csv', 'rate/rateTable_size20_300trials_007.csv', 'rate/rateTable_size20_300trials_008.csv', 'rate/rateTable_size20_300trials_009.csv', 'rate/rateTable_size20_300trials_010.csv', 'rate/rateTable_size20_300trials_011.csv', 'rate/rateTable_size20_300trials_012.csv', 'rate/rateTable_size20_300trials_013.csv', 'rate/rateTable_size20_300trials_014.csv', 'rate/rateTable_size20_300trials_015.csv', 'rate/rateTable_size20_300trials_016.csv', 'rate/rateTable_size20_300trials_017.csv', 'rate/rateTable_size20_300trials_018.csv', 'rate/rateTable_size20_300trials_019.csv', 'rate/rateTable_size20_300trials_020.csv', 'rate/rateTable_size20_300trials_021.csv', 'rate/rateTable_size20_300trials_022.csv', 'rate/rateTable_size20_300trials_023.csv', 'rate/rateTable_size20_300trials_024.csv', 'rate/rateTable_size20_300trials_025.csv', 'rate/rateTable_size20_300trials_026.csv', 'rate/rateTable_size20_300trials_027.csv', 'rate/rateTable_size20_300trials_028.csv', 'rate/rateTable_size20_300trials_029.csv', 'rate/rateTable_size20_300trials_030.csv', 'rate/rateTable_size20_300trials_031.csv', 'rate/rateTable_size20_300trials_032.csv', 'rate/rateTable_size20_300trials_033.csv', 'rate/rateTable_size20_300trials_034.csv', 'rate/rateTable_size20_300trials_035.csv', 'rate/rateTable_size20_300trials_036.csv', 'rate/rateTable_size20_300trials_037.csv', 'rate/rateTable_size20_300trials_038.csv', 'rate/rateTable_size20_300trials_039.csv', 'rate/rateTable_size20_300trials_040.csv', 'rate/rateTable_size20_300trials_041.csv', 'rate/rateTable_size20_300trials_042.csv', 'rate/rateTable_size20_300trials_043.csv', 'rate/rateTable_size20_300trials_044.csv', 'rate/rateTable_size20_300trials_045.csv', 'rate/rateTable_size20_300trials_046.csv', 'rate/rateTable_size20_300trials_047.csv', 'rate/rateTable_size20_300trials_048.csv', 'rate/rateTable_size20_300trials_049.csv', 'rate/rateTable_size20_300trials_050.csv', 'rate/rateTable_size20_300trials_051.csv', 'rate/rateTable_size20_300trials_052.csv', 'rate/rateTable_size20_300trials_053.csv', 'rate/rateTable_size20_300trials_054.csv', 'rate/rateTable_size20_300trials_055.csv', 'rate/rateTable_size20_300trials_056.csv', 'rate/rateTable_size20_300trials_057.csv', 'rate/rateTable_size20_300trials_058.csv', 'rate/rateTable_size20_300trials_059.csv', 'rate/rateTable_size20_300trials_060.csv', 'rate/rateTable_size20_300trials_061.csv', 'rate/rateTable_size20_300trials_062.csv', 'rate/rateTable_size20_300trials_063.csv', 'rate/rateTable_size20_300trials_064.csv', 'rate/rateTable_size20_300trials_065.csv', 'rate/rateTable_size20_300trials_066.csv', 'rate/rateTable_size20_300trials_067.csv', 'rate/rateTable_size20_300trials_068.csv', 'rate/rateTable_size20_300trials_069.csv', 'rate/rateTable_size20_300trials_070.csv', 'rate/rateTable_size20_300trials_071.csv', 'rate/rateTable_size20_300trials_072.csv', 'rate/rateTable_size20_300trials_073.csv', 'rate/rateTable_size20_300trials_074.csv', 'rate/rateTable_size20_300trials_075.csv', 'rate/rateTable_size20_300trials_076.csv', 'rate/rateTable_size20_300trials_077.csv', 'rate/rateTable_size20_300trials_078.csv', 'rate/rateTable_size20_300trials_079.csv', 'rate/rateTable_size20_300trials_080.csv', 'rate/rateTable_size20_300trials_081.csv', 'rate/rateTable_size20_300trials_082.csv', 'rate/rateTable_size20_300trials_083.csv', 'rate/rateTable_size20_300trials_084.csv', 'rate/rateTable_size20_300trials_085.csv', 'rate/rateTable_size20_300trials_086.csv', 'rate/rateTable_size20_300trials_087.csv', 'rate/rateTable_size20_300trials_088.csv', 'rate/rateTable_size20_300trials_089.csv', 'rate/rateTable_size20_300trials_090.csv', 'rate/rateTable_size20_300trials_091.csv', 'rate/rateTable_size20_300trials_092.csv', 'rate/rateTable_size20_300trials_093.csv', 'rate/rateTable_size20_300trials_094.csv', 'rate/rateTable_size20_300trials_095.csv', 'rate/rateTable_size20_300trials_096.csv', 'rate/rateTable_size20_300trials_097.csv', 'rate/rateTable_size20_300trials_098.csv', 'rate/rateTable_size20_300trials_099.csv', 'rate/rateTable_size20_300trials_100.csv', 'rate/rateTable_size20_300trials_101.csv', 'rate/rateTable_size20_300trials_102.csv', 'rate/rateTable_size20_300trials_103.csv', 'rate/rateTable_size20_300trials_104.csv', 'rate/rateTable_size20_300trials_105.csv', 'rate/rateTable_size20_300trials_106.csv', 'rate/rateTable_size20_300trials_107.csv', 'rate/rateTable_size20_300trials_108.csv', 'rate/rateTable_size20_300trials_109.csv', 'rate/rateTable_size20_300trials_110.csv', 'rate/rateTable_size20_300trials_111.csv', 'rate/rateTable_size20_300trials_112.csv', 'rate/rateTable_size20_300trials_113.csv', 'rate/rateTable_size20_300trials_114.csv', 'rate/rateTable_size20_300trials_115.csv', 'rate/rateTable_size20_300trials_116.csv', 'rate/rateTable_size20_300trials_117.csv', 'rate/rateTable_size20_300trials_118.csv', 'rate/rateTable_size20_300trials_119.csv', 'rate/rateTable_size20_300trials_120.csv', 'rate/rateTable_size20_300trials_121.csv', 'rate/rateTable_size20_300trials_122.csv', 'rate/rateTable_size20_300trials_123.csv', 'rate/rateTable_size20_300trials_124.csv', 'rate/rateTable_size20_300trials_125.csv', 'rate/rateTable_size20_300trials_126.csv', 'rate/rateTable_size20_300trials_127.csv', 'rate/rateTable_size20_300trials_128.csv', 'rate/rateTable_size20_300trials_129.csv', 'rate/rateTable_size20_300trials_130.csv', 'rate/rateTable_size20_300trials_131.csv', 'rate/rateTable_size20_300trials_132.csv', 'rate/rateTable_size20_300trials_133.csv', 'rate/rateTable_size20_300trials_134.csv', 'rate/rateTable_size20_300trials_135.csv', 'rate/rateTable_size20_300trials_136.csv', 'rate/rateTable_size20_300trials_137.csv', 'rate/rateTable_size20_300trials_138.csv', 'rate/rateTable_size20_300trials_139.csv', 'rate/rateTable_size20_300trials_140.csv', 'rate/rateTable_size20_300trials_141.csv', 'rate/rateTable_size20_300trials_142.csv', 'rate/rateTable_size20_300trials_143.csv', 'rate/rateTable_size20_300trials_144.csv', 'rate/rateTable_size20_300trials_145.csv', 'rate/rateTable_size20_300trials_146.csv', 'rate/rateTable_size20_300trials_147.csv', 'rate/rateTable_size20_300trials_148.csv', 'rate/rateTable_size20_300trials_149.csv', 'rate/rateTable_size20_300trials_150.csv', 'rate/rateTable_size20_300trials_151.csv', 'rate/rateTable_size20_300trials_152.csv', 'rate/rateTable_size20_300trials_153.csv', 'rate/rateTable_size20_300trials_154.csv', 'rate/rateTable_size20_300trials_155.csv', 'rate/rateTable_size20_300trials_156.csv', 'rate/rateTable_size20_300trials_157.csv', 'rate/rateTable_size20_300trials_158.csv', 'rate/rateTable_size20_300trials_159.csv', 'rate/rateTable_size20_300trials_160.csv', 'rate/rateTable_size20_300trials_161.csv', 'rate/rateTable_size20_300trials_162.csv', 'rate/rateTable_size20_300trials_163.csv', 'rate/rateTable_size20_300trials_164.csv', 'rate/rateTable_size20_300trials_165.csv', 'rate/rateTable_size20_300trials_166.csv', 'rate/rateTable_size20_300trials_167.csv', 'rate/rateTable_size20_300trials_168.csv', 'rate/rateTable_size20_300trials_170.csv', 'rate/rateTable_size20_300trials_171.csv', 'rate/rateTable_size20_300trials_172.csv', 'rate/rateTable_size20_300trials_173.csv', 'rate/rateTable_size20_300trials_174.csv', 'rate/rateTable_size20_300trials_175.csv', 'rate/rateTable_size20_300trials_176.csv', 'rate/rateTable_size20_300trials_177.csv', 'rate/rateTable_size20_300trials_178.csv', 'rate/rateTable_size20_300trials_179.csv', 'rate/rateTable_size20_300trials_180.csv', 'rate/rateTable_size20_300trials_181.csv', 'rate/rateTable_size20_300trials_182.csv', 'rate/rateTable_size20_300trials_183.csv', 'rate/rateTable_size20_300trials_184.csv', 'rate/rateTable_size20_300trials_185.csv', 'rate/rateTable_size20_300trials_186.csv', 'rate/rateTable_size20_300trials_187.csv', 'rate/rateTable_size20_300trials_188.csv', 'rate/rateTable_size20_300trials_189.csv', 'rate/rateTable_size20_300trials_190.csv', 'rate/rateTable_size20_300trials_191.csv', 'rate/rateTable_size20_300trials_192.csv', 'rate/rateTable_size20_300trials_193.csv', 'rate/rateTable_size20_300trials_194.csv', 'rate/rateTable_size20_300trials_195.csv', 'rate/rateTable_size20_300trials_196.csv', 'rate/rateTable_size20_300trials_197.csv', 'rate/rateTable_size20_300trials_198.csv', 'rate/rateTable_size20_300trials_199.csv', 'rate/rateTable_size20_300trials_200.csv', 'rate/rateTable_size20_300trials_201.csv', 'rate/rateTable_size20_300trials_202.csv', 'rate/rateTable_size20_300trials_203.csv', 'rate/rateTable_size20_300trials_204.csv', 'rate/rateTable_size20_300trials_205.csv', 'rate/rateTable_size20_300trials_206.csv', 'rate/rateTable_size20_300trials_207.csv', 'rate/rateTable_size20_300trials_208.csv', 'rate/rateTable_size20_300trials_209.csv', 'rate/rateTable_size20_300trials_210.csv', 'rate/rateTable_size20_300trials_211.csv', 'rate/rateTable_size20_300trials_212.csv', 'rate/rateTable_size20_300trials_213.csv', 'rate/rateTable_size20_300trials_214.csv', 'rate/rateTable_size20_300trials_215.csv', 'rate/rateTable_size20_300trials_216.csv', 'rate/rateTable_size20_300trials_217.csv', 'rate/rateTable_size20_300trials_218.csv', 'rate/rateTable_size20_300trials_219.csv', 'rate/rateTable_size20_300trials_220.csv', 'rate/rateTable_size20_300trials_221.csv', 'rate/rateTable_size20_300trials_222.csv', 'rate/rateTable_size20_300trials_223.csv', 'rate/rateTable_size20_300trials_224.csv', 'rate/rateTable_size20_300trials_225.csv', 'rate/rateTable_size20_300trials_226.csv', 'rate/rateTable_size20_300trials_227.csv', 'rate/rateTable_size20_300trials_228.csv', 'rate/rateTable_size20_300trials_229.csv', 'rate/rateTable_size20_300trials_230.csv', 'rate/rateTable_size20_300trials_231.csv', 'rate/rateTable_size20_300trials_232.csv', 'rate/rateTable_size20_300trials_233.csv', 'rate/rateTable_size20_300trials_234.csv', 'rate/rateTable_size20_300trials_235.csv', 'rate/rateTable_size20_300trials_236.csv', 'rate/rateTable_size20_300trials_237.csv', 'rate/rateTable_size20_300trials_238.csv', 'rate/rateTable_size20_300trials_239.csv', 'rate/rateTable_size20_300trials_240.csv', 'rate/rateTable_size20_300trials_241.csv', 'rate/rateTable_size20_300trials_242.csv', 'rate/rateTable_size20_300trials_243.csv', 'rate/rateTable_size20_300trials_244.csv', 'rate/rateTable_size20_300trials_245.csv', 'rate/rateTable_size20_300trials_246.csv', 'rate/rateTable_size20_300trials_247.csv', 'rate/rateTable_size20_300trials_248.csv', 'rate/rateTable_size20_300trials_249.csv', 'rate/rateTable_size20_300trials_250.csv', 'rate/rateTable_size20_300trials_251.csv', 'rate/rateTable_size20_300trials_252.csv', 'rate/rateTable_size20_300trials_253.csv', 'rate/rateTable_size20_300trials_254.csv', 'rate/rateTable_size20_300trials_255.csv', 'rate/rateTable_size20_300trials_256.csv', 'rate/rateTable_size20_300trials_257.csv', 'rate/rateTable_size20_300trials_258.csv', 'rate/rateTable_size20_300trials_259.csv', 'rate/rateTable_size20_300trials_260.csv', 'rate/rateTable_size20_300trials_261.csv', 'rate/rateTable_size20_300trials_262.csv', 'rate/rateTable_size20_300trials_263.csv', 'rate/rateTable_size20_300trials_264.csv', 'rate/rateTable_size20_300trials_265.csv', 'rate/rateTable_size20_300trials_266.csv', 'rate/rateTable_size20_300trials_267.csv', 'rate/rateTable_size20_300trials_268.csv', 'rate/rateTable_size20_300trials_269.csv', 'rate/rateTable_size20_300trials_270.csv', 'rate/rateTable_size20_300trials_271.csv', 'rate/rateTable_size20_300trials_272.csv', 'rate/rateTable_size20_300trials_273.csv', 'rate/rateTable_size20_300trials_274.csv', 'rate/rateTable_size20_300trials_275.csv', 'rate/rateTable_size20_300trials_276.csv', 'rate/rateTable_size20_300trials_277.csv', 'rate/rateTable_size20_300trials_278.csv', 'rate/rateTable_size20_300trials_279.csv', 'rate/rateTable_size20_300trials_280.csv', 'rate/rateTable_size20_300trials_281.csv', 'rate/rateTable_size20_300trials_282.csv', 'rate/rateTable_size20_300trials_283.csv', 'rate/rateTable_size20_300trials_284.csv', 'rate/rateTable_size20_300trials_285.csv', 'rate/rateTable_size20_300trials_286.csv', 'rate/rateTable_size20_300trials_287.csv', 'rate/rateTable_size20_300trials_288.csv', 'rate/rateTable_size20_300trials_289.csv', 'rate/rateTable_size20_300trials_290.csv', 'rate/rateTable_size20_300trials_291.csv', 'rate/rateTable_size20_300trials_292.csv', 'rate/rateTable_size20_300trials_293.csv', 'rate/rateTable_size20_300trials_294.csv', 'rate/rateTable_size20_300trials_295.csv', 'rate/rateTable_size20_300trials_296.csv', 'rate/rateTable_size20_300trials_297.csv', 'rate/rateTable_size20_300trials_298.csv', 'rate/rateTable_size20_300trials_299.csv']\n"
     ]
    }
   ],
   "source": [
    "\n",
    "\n",
    "import os\n",
    "\n",
    "def get_file_name(path):\n",
    "    files = []\n",
    "    for filename in os.listdir(path):\n",
    "        files.append(os.path.join(path, filename))\n",
    "    return sorted(sorted(files))\n",
    "\n",
    "#取得できているかのチェック\n",
    "f = sorted(get_file_name('rate'))\n",
    "#print(f)"
   ]
  },
  {
   "cell_type": "code",
   "execution_count": 9,
   "metadata": {},
   "outputs": [
    {
     "data": {
      "application/vnd.jupyter.widget-view+json": {
       "model_id": "1225bf1830db458aa27ecbd4e0064c37",
       "version_major": 2,
       "version_minor": 0
      },
      "text/plain": [
       "interactive(children=(IntSlider(value=0, description='x', max=10, min=-10, step=2), Output()), _dom_classes=('…"
      ]
     },
     "metadata": {},
     "output_type": "display_data"
    }
   ],
   "source": [
    "# def show_table():\n",
    "import pandas as pd\n",
    "from scipy import stats\n",
    "import seaborn as sns\n",
    "from ptitprince import PtitPrince as pt\n",
    "import matplotlib.pyplot as plt\n",
    "from IPython.html.widgets import interact, interactive, fixed\n",
    "from IPython.html import widgets\n",
    "\n",
    "f  = get_file_name('rate')\n",
    "    \n",
    "def f(x):\n",
    "    print(x)\n",
    "        \n",
    "interact(f, x=widgets.IntSlider(min=-10, max=10, step=2, value=0));\n"
   ]
  },
  {
   "cell_type": "code",
   "execution_count": 35,
   "metadata": {
    "scrolled": false
   },
   "outputs": [
    {
     "data": {
      "application/vnd.jupyter.widget-view+json": {
       "model_id": "3e03bd96971e448e95f52a9faeb66161",
       "version_major": 2,
       "version_minor": 0
      },
      "text/plain": [
       "interactive(children=(IntSlider(value=0, description='i', max=201), IntSlider(value=4, description='j', max=20…"
      ]
     },
     "metadata": {},
     "output_type": "display_data"
    }
   ],
   "source": [
    "import csv\n",
    "import pandas as pd\n",
    "from scipy import stats\n",
    "import seaborn as sns\n",
    "import matplotlib.pyplot as plt\n",
    "import numpy as np\n",
    "\n",
    "'''\n",
    "sd =7\n",
    "for i in range(200):\n",
    "    makeTable(i, 300, 20, sd)\n",
    "\n",
    "'''\n",
    "def get_file_name(path):\n",
    "    files = []\n",
    "    for filename in os.listdir(path):\n",
    "        files.append(os.path.join(path, filename))\n",
    "    return sorted(sorted(files))\n",
    "\n",
    "\n",
    "def plot(i,j):\n",
    "    i = i + j\n",
    "    file = get_file_name('../code/goodTable')    #('rate')\n",
    "    with open(file[i]) as f:\n",
    "        tmp = csv.reader(f)\n",
    "     \n",
    "        tmp = list(tmp)\n",
    "        tmp = np.array(tmp).transpose()\n",
    "        tmp = tmp.astype(np.int)\n",
    "        arr = pd.DataFrame(tmp, columns=['color','shape','number'])\n",
    "        fig, ax = plt.subplots()\n",
    "        plt.rcParams[\"font.size\"] = 15\n",
    "        \n",
    "    \n",
    "        \n",
    "        ax = sns.lineplot(data=arr)\n",
    "        ax.set_ylim(0,100)\n",
    "        ax.set_xlim(-1,301)\n",
    "        ax.axhspan(65,100 ,alpha=0.1, color='red')\n",
    "        ax.axhspan(55,65 ,alpha=0.05, color='red')\n",
    "        ax.axvline(100, color='gray')\n",
    "        ax.axvline(200, color='gray')\n",
    "        \n",
    "        ax.legend(loc=\"upper center\", ncol=3, fancybox=True, shadow=True, bbox_to_anchor=(.5,1.15))\n",
    "        \n",
    "        plt.xlabel('Trial')\n",
    "        plt.ylabel('Prob (%)')\n",
    "        plt.title(\"test\")\n",
    "        \n",
    "        print(file[i])\n",
    "\n",
    "interact(plot, i=widgets.IntSlider(min=0, max=201, step=1, value=0), \n",
    "                        j=widgets.IntSlider(min=0, max=201, step=1, value=4));"
   ]
  },
  {
   "cell_type": "code",
   "execution_count": 9,
   "metadata": {},
   "outputs": [
    {
     "name": "stdout",
     "output_type": "stream",
     "text": [
      "      a   b   c\n",
      "0    78  11  10\n",
      "1    78  12   8\n",
      "2    77  14   8\n",
      "3    76  14   9\n",
      "4    73  17   9\n",
      "..   ..  ..  ..\n",
      "295  22  70   7\n",
      "296  22  67   9\n",
      "297  22  66  11\n",
      "298  22  64  13\n",
      "299  24  63  13\n",
      "\n",
      "[300 rows x 3 columns]\n"
     ]
    }
   ],
   "source": [
    "# 平均してから、配列を入れるようにした。\n",
    "\n",
    "# 3つの特徴が必ず1回はいいタイミングがあって、その確率は60割超え。\n",
    "# 当たりやすさが、2&3番目の差が大きいものが好ましい。\n",
    "\n",
    "# 4 a-b-bc-ac-a-c 途中に、bc, acが同じだけいい時間がある。顕著に当たりやすい特徴がある時間は短いので多少難しいかもしれないが、いい題材かもしれない\n",
    "# 205 a-ちょっと混乱-cc-bb　長めのスパンで当たりやすい特徴が固定されている。ゆっくりしていて学習が差散るかもしれないけど、休憩も取れていいかもしれない。\n",
    "\n",
    "# 0001  aac-混乱-bb　ちょっとだけ塊が大きいかもしれないが、学習がゆっくりならこれでもいいかもしれないけど、すぐに臨界に達して情報量を失いそう。\n",
    "# 0002 最初3回でいいものが変わる。他二つの要素は優劣が小さい。最後はランダムみたいなもので、かなり混乱して終わるのではないかと思う。\n",
    "# 0003  50回単位で、当たりやすい特徴が変化する。a特徴はあまりだが、b,cが交互にやってくる。最後の30trialでa特徴の当たりが良くなるが、これは適応難しいだろう。\n",
    "# 0004 a-混乱-c-a-混乱-bの順で変化する。いい例かもしれない。最初は馴化できて、最後にあまり評価されていないbがゆっくり上がってくるのは面白そう"
   ]
  },
  {
   "cell_type": "code",
   "execution_count": 14,
   "metadata": {},
   "outputs": [
    {
     "name": "stdout",
     "output_type": "stream",
     "text": [
      "<class 'pandas.core.frame.DataFrame'>\n"
     ]
    },
    {
     "ename": "KeyError",
     "evalue": "(0,)",
     "output_type": "error",
     "traceback": [
      "\u001b[0;31m---------------------------------------------------------------------------\u001b[0m",
      "\u001b[0;31mKeyError\u001b[0m                                  Traceback (most recent call last)",
      "\u001b[0;32m/anaconda3/lib/python3.6/site-packages/pandas/core/indexes/base.py\u001b[0m in \u001b[0;36mget_loc\u001b[0;34m(self, key, method, tolerance)\u001b[0m\n\u001b[1;32m   2889\u001b[0m             \u001b[0;32mtry\u001b[0m\u001b[0;34m:\u001b[0m\u001b[0;34m\u001b[0m\u001b[0;34m\u001b[0m\u001b[0m\n\u001b[0;32m-> 2890\u001b[0;31m                 \u001b[0;32mreturn\u001b[0m \u001b[0mself\u001b[0m\u001b[0;34m.\u001b[0m\u001b[0m_engine\u001b[0m\u001b[0;34m.\u001b[0m\u001b[0mget_loc\u001b[0m\u001b[0;34m(\u001b[0m\u001b[0mkey\u001b[0m\u001b[0;34m)\u001b[0m\u001b[0;34m\u001b[0m\u001b[0;34m\u001b[0m\u001b[0m\n\u001b[0m\u001b[1;32m   2891\u001b[0m             \u001b[0;32mexcept\u001b[0m \u001b[0mKeyError\u001b[0m\u001b[0;34m:\u001b[0m\u001b[0;34m\u001b[0m\u001b[0;34m\u001b[0m\u001b[0m\n",
      "\u001b[0;32mpandas/_libs/index.pyx\u001b[0m in \u001b[0;36mpandas._libs.index.IndexEngine.get_loc\u001b[0;34m()\u001b[0m\n",
      "\u001b[0;32mpandas/_libs/index.pyx\u001b[0m in \u001b[0;36mpandas._libs.index.IndexEngine.get_loc\u001b[0;34m()\u001b[0m\n",
      "\u001b[0;32mpandas/_libs/hashtable_class_helper.pxi\u001b[0m in \u001b[0;36mpandas._libs.hashtable.PyObjectHashTable.get_item\u001b[0;34m()\u001b[0m\n",
      "\u001b[0;32mpandas/_libs/hashtable_class_helper.pxi\u001b[0m in \u001b[0;36mpandas._libs.hashtable.PyObjectHashTable.get_item\u001b[0;34m()\u001b[0m\n",
      "\u001b[0;31mKeyError\u001b[0m: (0,)",
      "\nDuring handling of the above exception, another exception occurred:\n",
      "\u001b[0;31mKeyError\u001b[0m                                  Traceback (most recent call last)",
      "\u001b[0;32m<ipython-input-14-882d9b6815ae>\u001b[0m in \u001b[0;36m<module>\u001b[0;34m\u001b[0m\n\u001b[1;32m     13\u001b[0m \u001b[0marr\u001b[0m \u001b[0;34m=\u001b[0m \u001b[0mtest_read_csv\u001b[0m\u001b[0;34m(\u001b[0m\u001b[0;36m0\u001b[0m\u001b[0;34m,\u001b[0m \u001b[0;36m300\u001b[0m\u001b[0;34m,\u001b[0m \u001b[0;36m20\u001b[0m\u001b[0;34m)\u001b[0m\u001b[0;34m\u001b[0m\u001b[0;34m\u001b[0m\u001b[0m\n\u001b[1;32m     14\u001b[0m \u001b[0;34m\u001b[0m\u001b[0m\n\u001b[0;32m---> 15\u001b[0;31m \u001b[0mprint\u001b[0m\u001b[0;34m(\u001b[0m\u001b[0marr\u001b[0m\u001b[0;34m[\u001b[0m\u001b[0;36m0\u001b[0m\u001b[0;34m,\u001b[0m\u001b[0;34m]\u001b[0m\u001b[0;34m)\u001b[0m\u001b[0;34m\u001b[0m\u001b[0;34m\u001b[0m\u001b[0m\n\u001b[0m\u001b[1;32m     16\u001b[0m \u001b[0;31m#fig, ax = plt.subplots()\u001b[0m\u001b[0;34m\u001b[0m\u001b[0;34m\u001b[0m\u001b[0;34m\u001b[0m\u001b[0m\n\u001b[1;32m     17\u001b[0m \u001b[0;31m#ax = sns.lineplot(data=arr)\u001b[0m\u001b[0;34m\u001b[0m\u001b[0;34m\u001b[0m\u001b[0;34m\u001b[0m\u001b[0m\n",
      "\u001b[0;32m/anaconda3/lib/python3.6/site-packages/pandas/core/frame.py\u001b[0m in \u001b[0;36m__getitem__\u001b[0;34m(self, key)\u001b[0m\n\u001b[1;32m   2973\u001b[0m             \u001b[0;32mif\u001b[0m \u001b[0mself\u001b[0m\u001b[0;34m.\u001b[0m\u001b[0mcolumns\u001b[0m\u001b[0;34m.\u001b[0m\u001b[0mnlevels\u001b[0m \u001b[0;34m>\u001b[0m \u001b[0;36m1\u001b[0m\u001b[0;34m:\u001b[0m\u001b[0;34m\u001b[0m\u001b[0;34m\u001b[0m\u001b[0m\n\u001b[1;32m   2974\u001b[0m                 \u001b[0;32mreturn\u001b[0m \u001b[0mself\u001b[0m\u001b[0;34m.\u001b[0m\u001b[0m_getitem_multilevel\u001b[0m\u001b[0;34m(\u001b[0m\u001b[0mkey\u001b[0m\u001b[0;34m)\u001b[0m\u001b[0;34m\u001b[0m\u001b[0;34m\u001b[0m\u001b[0m\n\u001b[0;32m-> 2975\u001b[0;31m             \u001b[0mindexer\u001b[0m \u001b[0;34m=\u001b[0m \u001b[0mself\u001b[0m\u001b[0;34m.\u001b[0m\u001b[0mcolumns\u001b[0m\u001b[0;34m.\u001b[0m\u001b[0mget_loc\u001b[0m\u001b[0;34m(\u001b[0m\u001b[0mkey\u001b[0m\u001b[0;34m)\u001b[0m\u001b[0;34m\u001b[0m\u001b[0;34m\u001b[0m\u001b[0m\n\u001b[0m\u001b[1;32m   2976\u001b[0m             \u001b[0;32mif\u001b[0m \u001b[0mis_integer\u001b[0m\u001b[0;34m(\u001b[0m\u001b[0mindexer\u001b[0m\u001b[0;34m)\u001b[0m\u001b[0;34m:\u001b[0m\u001b[0;34m\u001b[0m\u001b[0;34m\u001b[0m\u001b[0m\n\u001b[1;32m   2977\u001b[0m                 \u001b[0mindexer\u001b[0m \u001b[0;34m=\u001b[0m \u001b[0;34m[\u001b[0m\u001b[0mindexer\u001b[0m\u001b[0;34m]\u001b[0m\u001b[0;34m\u001b[0m\u001b[0;34m\u001b[0m\u001b[0m\n",
      "\u001b[0;32m/anaconda3/lib/python3.6/site-packages/pandas/core/indexes/base.py\u001b[0m in \u001b[0;36mget_loc\u001b[0;34m(self, key, method, tolerance)\u001b[0m\n\u001b[1;32m   2890\u001b[0m                 \u001b[0;32mreturn\u001b[0m \u001b[0mself\u001b[0m\u001b[0;34m.\u001b[0m\u001b[0m_engine\u001b[0m\u001b[0;34m.\u001b[0m\u001b[0mget_loc\u001b[0m\u001b[0;34m(\u001b[0m\u001b[0mkey\u001b[0m\u001b[0;34m)\u001b[0m\u001b[0;34m\u001b[0m\u001b[0;34m\u001b[0m\u001b[0m\n\u001b[1;32m   2891\u001b[0m             \u001b[0;32mexcept\u001b[0m \u001b[0mKeyError\u001b[0m\u001b[0;34m:\u001b[0m\u001b[0;34m\u001b[0m\u001b[0;34m\u001b[0m\u001b[0m\n\u001b[0;32m-> 2892\u001b[0;31m                 \u001b[0;32mreturn\u001b[0m \u001b[0mself\u001b[0m\u001b[0;34m.\u001b[0m\u001b[0m_engine\u001b[0m\u001b[0;34m.\u001b[0m\u001b[0mget_loc\u001b[0m\u001b[0;34m(\u001b[0m\u001b[0mself\u001b[0m\u001b[0;34m.\u001b[0m\u001b[0m_maybe_cast_indexer\u001b[0m\u001b[0;34m(\u001b[0m\u001b[0mkey\u001b[0m\u001b[0;34m)\u001b[0m\u001b[0;34m)\u001b[0m\u001b[0;34m\u001b[0m\u001b[0;34m\u001b[0m\u001b[0m\n\u001b[0m\u001b[1;32m   2893\u001b[0m         \u001b[0mindexer\u001b[0m \u001b[0;34m=\u001b[0m \u001b[0mself\u001b[0m\u001b[0;34m.\u001b[0m\u001b[0mget_indexer\u001b[0m\u001b[0;34m(\u001b[0m\u001b[0;34m[\u001b[0m\u001b[0mkey\u001b[0m\u001b[0;34m]\u001b[0m\u001b[0;34m,\u001b[0m \u001b[0mmethod\u001b[0m\u001b[0;34m=\u001b[0m\u001b[0mmethod\u001b[0m\u001b[0;34m,\u001b[0m \u001b[0mtolerance\u001b[0m\u001b[0;34m=\u001b[0m\u001b[0mtolerance\u001b[0m\u001b[0;34m)\u001b[0m\u001b[0;34m\u001b[0m\u001b[0;34m\u001b[0m\u001b[0m\n\u001b[1;32m   2894\u001b[0m         \u001b[0;32mif\u001b[0m \u001b[0mindexer\u001b[0m\u001b[0;34m.\u001b[0m\u001b[0mndim\u001b[0m \u001b[0;34m>\u001b[0m \u001b[0;36m1\u001b[0m \u001b[0;32mor\u001b[0m \u001b[0mindexer\u001b[0m\u001b[0;34m.\u001b[0m\u001b[0msize\u001b[0m \u001b[0;34m>\u001b[0m \u001b[0;36m1\u001b[0m\u001b[0;34m:\u001b[0m\u001b[0;34m\u001b[0m\u001b[0;34m\u001b[0m\u001b[0m\n",
      "\u001b[0;32mpandas/_libs/index.pyx\u001b[0m in \u001b[0;36mpandas._libs.index.IndexEngine.get_loc\u001b[0;34m()\u001b[0m\n",
      "\u001b[0;32mpandas/_libs/index.pyx\u001b[0m in \u001b[0;36mpandas._libs.index.IndexEngine.get_loc\u001b[0;34m()\u001b[0m\n",
      "\u001b[0;32mpandas/_libs/hashtable_class_helper.pxi\u001b[0m in \u001b[0;36mpandas._libs.hashtable.PyObjectHashTable.get_item\u001b[0;34m()\u001b[0m\n",
      "\u001b[0;32mpandas/_libs/hashtable_class_helper.pxi\u001b[0m in \u001b[0;36mpandas._libs.hashtable.PyObjectHashTable.get_item\u001b[0;34m()\u001b[0m\n",
      "\u001b[0;31mKeyError\u001b[0m: (0,)"
     ]
    }
   ],
   "source": [
    "import pandas as pd\n",
    "\n",
    "def test_read_csv(i, trials, walkSize):\n",
    "    filename = 'rate/rateTable_size'+ str(walkSize) + '_' + str(trials) + 'trials_' + str(i).zfill(3) + '.csv'\n",
    "    a = pd.read_csv(filename, header=None)\n",
    "    a = a.transpose()\n",
    "    a.columns =  ['a','b','c']\n",
    "    print(type(a))\n",
    "    return a\n",
    "\n",
    "\n",
    "\n",
    "\n",
    "#fig, ax = plt.subplots()\n",
    "#ax = sns.lineplot(data=arr)"
   ]
  },
  {
   "cell_type": "code",
   "execution_count": 62,
   "metadata": {},
   "outputs": [
    {
     "name": "stdout",
     "output_type": "stream",
     "text": [
      "<class 'pandas.core.frame.DataFrame'>\n",
      "    a   b   c\n",
      "0  78  11  10\n",
      "<class 'numpy.ndarray'>\n",
      "88\n",
      "21\n"
     ]
    }
   ],
   "source": [
    "# this is a test\n",
    "#\n",
    "arr = test_read_csv(0, 300, 20)\n",
    "\n",
    "a = arr[0:1]\n",
    "print(a)\n",
    "print(type(a.values))\n",
    "print(int(a['a']*1 + a['b']*0 + a['c']*1))\n",
    "print((a.dot([0,1,1]))[0])"
   ]
  },
  {
   "cell_type": "code",
   "execution_count": 69,
   "metadata": {},
   "outputs": [
    {
     "name": "stdout",
     "output_type": "stream",
     "text": [
      "3\n"
     ]
    }
   ],
   "source": [
    "# this is a test\n",
    "#\n",
    "a = 2\n",
    "exec('a' + '=' + str(3))\n",
    "print(a)\n"
   ]
  },
  {
   "cell_type": "code",
   "execution_count": null,
   "metadata": {},
   "outputs": [],
   "source": []
  }
 ],
 "metadata": {
  "kernelspec": {
   "display_name": "Python 3",
   "language": "python",
   "name": "python3"
  },
  "language_info": {
   "codemirror_mode": {
    "name": "ipython",
    "version": 3
   },
   "file_extension": ".py",
   "mimetype": "text/x-python",
   "name": "python",
   "nbconvert_exporter": "python",
   "pygments_lexer": "ipython3",
   "version": "3.7.4"
  }
 },
 "nbformat": 4,
 "nbformat_minor": 2
}
