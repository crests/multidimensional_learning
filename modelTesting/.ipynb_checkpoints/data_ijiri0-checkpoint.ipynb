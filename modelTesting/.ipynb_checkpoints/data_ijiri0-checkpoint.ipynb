{
 "cells": [
  {
   "cell_type": "code",
   "execution_count": 1,
   "metadata": {},
   "outputs": [
    {
     "name": "stderr",
     "output_type": "stream",
     "text": [
      "/anaconda3/lib/python3.6/site-packages/IPython/html.py:14: ShimWarning: The `IPython.html` package has been deprecated since IPython 4.0. You should import from `notebook` instead. `IPython.html.widgets` has moved to `ipywidgets`.\n",
      "  \"`IPython.html.widgets` has moved to `ipywidgets`.\", ShimWarning)\n"
     ]
    }
   ],
   "source": [
    "import pandas as pd\n",
    "import numpy as np\n",
    "from scipy import stats\n",
    "\n",
    "import os\n",
    "import csv\n",
    "import datetime\n",
    "import math\n",
    "\n",
    "import matplotlib.pyplot as plt\n",
    "import seaborn as sns\n",
    "from ptitprince import PtitPrince as pt\n",
    "\n",
    "\n",
    "from IPython.html.widgets import interact, interactive, fixed\n",
    "from IPython.html import widgets\n",
    "'''\n",
    "/anaconda3/lib/python3.6/site-packages/IPython/html.py:14: ShimWarning: \n",
    "The `IPython.html` package has been deprecated since IPython 4.0. \n",
    "You should import from `notebook` instead. \n",
    "`IPython.html.widgets` has moved to `ipywidgets`.\n",
    "  \"`IPython.html.widgets` has moved to `ipywidgets`.\", ShimWarning)\n",
    "'''\n",
    "\n",
    "import random as rd\n",
    "import math\n",
    "from decimal import Decimal, ROUND_HALF_UP, ROUND_HALF_EVEN"
   ]
  },
  {
   "cell_type": "code",
   "execution_count": null,
   "metadata": {},
   "outputs": [],
   "source": []
  },
  {
   "cell_type": "code",
   "execution_count": 61,
   "metadata": {},
   "outputs": [
    {
     "name": "stdout",
     "output_type": "stream",
     "text": [
      "       option_left option_middle option_right prob_left prob_middle  \\\n",
      "count          300           300          300       299         299   \n",
      "unique           8             8            8        93          92   \n",
      "top          1,0,1         1,0,1        1,0,0         0           0   \n",
      "freq            62            54           49        35          40   \n",
      "\n",
      "       prob_right  choice hit_or_blow sum_score                 rt  \n",
      "count         299     300         300       300                300  \n",
      "unique         89       3           2       206                300  \n",
      "top             0  middle        true      2060  932.6149999997579  \n",
      "freq           44     116         206         9                  1  \n",
      "        prob_left  prob_middle  prob_right    sum_score            rt\n",
      "count  299.000000   299.000000  299.000000   300.000000    300.000000\n",
      "mean     0.446756     0.448161    0.435886  1101.633333   2976.768483\n",
      "std      0.335029     0.332727    0.331520   594.129868   4105.940086\n",
      "min      0.000000     0.000000    0.000000    10.000000    149.800000\n",
      "25%      0.140000     0.120000    0.140000   607.500000    986.011250\n",
      "50%      0.420000     0.410000    0.370000  1165.000000   1592.940000\n",
      "75%      0.760000     0.750000    0.725000  1600.000000   3080.760000\n",
      "max      1.000000     1.000000    1.000000  2060.000000  32052.970000\n"
     ]
    },
    {
     "data": {
      "text/html": [
       "<div>\n",
       "<style scoped>\n",
       "    .dataframe tbody tr th:only-of-type {\n",
       "        vertical-align: middle;\n",
       "    }\n",
       "\n",
       "    .dataframe tbody tr th {\n",
       "        vertical-align: top;\n",
       "    }\n",
       "\n",
       "    .dataframe thead th {\n",
       "        text-align: right;\n",
       "    }\n",
       "</style>\n",
       "<table border=\"1\" class=\"dataframe\">\n",
       "  <thead>\n",
       "    <tr style=\"text-align: right;\">\n",
       "      <th></th>\n",
       "      <th>prob_left</th>\n",
       "      <th>prob_middle</th>\n",
       "      <th>prob_right</th>\n",
       "      <th>sum_score</th>\n",
       "      <th>rt</th>\n",
       "    </tr>\n",
       "  </thead>\n",
       "  <tbody>\n",
       "    <tr>\n",
       "      <th>count</th>\n",
       "      <td>299.000000</td>\n",
       "      <td>299.000000</td>\n",
       "      <td>299.000000</td>\n",
       "      <td>300.000000</td>\n",
       "      <td>300.000000</td>\n",
       "    </tr>\n",
       "    <tr>\n",
       "      <th>mean</th>\n",
       "      <td>0.446756</td>\n",
       "      <td>0.448161</td>\n",
       "      <td>0.435886</td>\n",
       "      <td>1101.633333</td>\n",
       "      <td>2976.768483</td>\n",
       "    </tr>\n",
       "    <tr>\n",
       "      <th>std</th>\n",
       "      <td>0.335029</td>\n",
       "      <td>0.332727</td>\n",
       "      <td>0.331520</td>\n",
       "      <td>594.129868</td>\n",
       "      <td>4105.940086</td>\n",
       "    </tr>\n",
       "    <tr>\n",
       "      <th>min</th>\n",
       "      <td>0.000000</td>\n",
       "      <td>0.000000</td>\n",
       "      <td>0.000000</td>\n",
       "      <td>10.000000</td>\n",
       "      <td>149.800000</td>\n",
       "    </tr>\n",
       "    <tr>\n",
       "      <th>25%</th>\n",
       "      <td>0.140000</td>\n",
       "      <td>0.120000</td>\n",
       "      <td>0.140000</td>\n",
       "      <td>607.500000</td>\n",
       "      <td>986.011250</td>\n",
       "    </tr>\n",
       "    <tr>\n",
       "      <th>50%</th>\n",
       "      <td>0.420000</td>\n",
       "      <td>0.410000</td>\n",
       "      <td>0.370000</td>\n",
       "      <td>1165.000000</td>\n",
       "      <td>1592.940000</td>\n",
       "    </tr>\n",
       "    <tr>\n",
       "      <th>75%</th>\n",
       "      <td>0.760000</td>\n",
       "      <td>0.750000</td>\n",
       "      <td>0.725000</td>\n",
       "      <td>1600.000000</td>\n",
       "      <td>3080.760000</td>\n",
       "    </tr>\n",
       "    <tr>\n",
       "      <th>max</th>\n",
       "      <td>1.000000</td>\n",
       "      <td>1.000000</td>\n",
       "      <td>1.000000</td>\n",
       "      <td>2060.000000</td>\n",
       "      <td>32052.970000</td>\n",
       "    </tr>\n",
       "  </tbody>\n",
       "</table>\n",
       "</div>"
      ],
      "text/plain": [
       "        prob_left  prob_middle  prob_right    sum_score            rt\n",
       "count  299.000000   299.000000  299.000000   300.000000    300.000000\n",
       "mean     0.446756     0.448161    0.435886  1101.633333   2976.768483\n",
       "std      0.335029     0.332727    0.331520   594.129868   4105.940086\n",
       "min      0.000000     0.000000    0.000000    10.000000    149.800000\n",
       "25%      0.140000     0.120000    0.140000   607.500000    986.011250\n",
       "50%      0.420000     0.410000    0.370000  1165.000000   1592.940000\n",
       "75%      0.760000     0.750000    0.725000  1600.000000   3080.760000\n",
       "max      1.000000     1.000000    1.000000  2060.000000  32052.970000"
      ]
     },
     "execution_count": 61,
     "metadata": {},
     "output_type": "execute_result"
    }
   ],
   "source": [
    "def read_csv(filename):\n",
    "    a = pd.read_csv(filename, header=None)\n",
    "    a = a.transpose()\n",
    "    a.columns =  ['option_left','option_middle','option_right', 'prob_left','prob_middle','prob_right','choice','hit_or_blow','sum_score', 'rt']\n",
    "    return a\n",
    "def str2option(str_table):\n",
    "    ret = []\n",
    "    for i in range(len(str_table)):\n",
    "        ret.append(np.array(str_table[i].split(\",\")).astype(int))\n",
    "    return ret\n",
    "def str2bool(str_arr):\n",
    "    ret = []\n",
    "    for i in range(len(str_arr)):\n",
    "        if(str_arr[i] == \"TRUE\" or str_arr[i] == \"true\"):\n",
    "            ret.append(True)\n",
    "        else:\n",
    "            ret.append(False)\n",
    "    return ret\n",
    "def compare(a,b):\n",
    "    # both a, b should be np.array\n",
    "    diff = a-b\n",
    "    if ((diff >= [0,0,0]).all()):\n",
    "        return \"left_is_bigger\"\n",
    "    if ((diff <= [0,0,0]).all()):\n",
    "        return \"right_is_bigger\"\n",
    "    return \"these_are_comparable\"\n",
    "def if_competitive(a,b,c):\n",
    "    # if return is True, it means a participant (or an agent) will have to think which feature is better used\n",
    "    # if return is False, it means one of these options is superior to the others\n",
    "    aa = np.array(a)\n",
    "    bb = np.array(b)\n",
    "    cc = np.array(c)\n",
    "    if (compare(aa,bb) == \"these_are_comparable\"):\n",
    "        if(compare(aa,cc)==\"right_is_bigger\" and compare(bb,cc)==\"right_is_bigger\"):\n",
    "            return False\n",
    "        else:\n",
    "            return True\n",
    "    if(compare(aa,bb) == \"right_is_bigger\"):\n",
    "        if(compare(bb,cc)==\"these_are_comparable\"):\n",
    "            return True\n",
    "        else:\n",
    "            return False\n",
    "    if(compare(aa,bb) == \"left_is_bigger\"):\n",
    "        if(compare(aa,cc)==\"these_are_comparable\"):\n",
    "            return True\n",
    "        else:\n",
    "            return False\n",
    "\n",
    "filename1 = \"../data/test/takasi_test_20191112.csv\"\n",
    "filename2 = \"../data/test/yn_test_20191113.csv\"\n",
    "filename3 = \"../data/test/arata_test_20191112.csv\"\n",
    "filename4 = \"../data/test/jinno_test_20191111.csv\" #使っているcsvが違っているため、不適切\n",
    "filename5 = \"../data/test/arata_test_20191118.csv\" #comparableの出現回数を調整。85%にした。\n",
    "filename6 = \"../data/test/shinobu_test_20191118.csv\"\n",
    "filename7 = \"../data/test/naru_test_20191118.csv\"\n",
    "a = read_csv(filename7)\n",
    "print(a.describe())\n",
    "a['option_left_str'] = a.option_left\n",
    "a['option_middle_str']  = a.option_middle\n",
    "a['option_right_str']  = a.option_right\n",
    "a.option_left = str2option(a.option_left)\n",
    "a.option_middle = str2option(a.option_middle)\n",
    "a.option_right = str2option(a.option_right)\n",
    "a.prob_left = a.prob_left.astype(float)/100.0\n",
    "a.prob_middle = a.prob_middle.astype(float)/100.0\n",
    "a.prob_right = a.prob_right.astype(float)/100.0\n",
    "a.hit_or_blow = str2bool(a.hit_or_blow)\n",
    "a.sum_score = a.sum_score.astype(int)\n",
    "a.rt = a.rt.astype(float)\n",
    "\n",
    "print(a.describe())\n",
    "a.describe()"
   ]
  },
  {
   "cell_type": "code",
   "execution_count": 64,
   "metadata": {
    "scrolled": false
   },
   "outputs": [
    {
     "data": {
      "text/plain": [
       "<matplotlib.axes._subplots.AxesSubplot at 0x1a25f65d68>"
      ]
     },
     "execution_count": 64,
     "metadata": {},
     "output_type": "execute_result"
    },
    {
     "data": {
      "image/png": "[encoded data removed]",
      "text/plain": [
       "<Figure size 432x288 with 1 Axes>"
      ]
     },
     "metadata": {
      "needs_background": "light"
     },
     "output_type": "display_data"
    },
    {
     "data": {
      "image/png": "[encoded data removed]",
      "text/plain": [
       "<Figure size 432x288 with 1 Axes>"
      ]
     },
     "metadata": {
      "needs_background": "light"
     },
     "output_type": "display_data"
    },
    {
     "data": {
      "image/png": "[encoded data removed]",
      "text/plain": [
       "<Figure size 432x288 with 1 Axes>"
      ]
     },
     "metadata": {
      "needs_background": "light"
     },
     "output_type": "display_data"
    }
   ],
   "source": [
    "plt.figure()\n",
    "sns.distplot(np.log(a.rt))\n",
    "plt.figure()\n",
    "#aa = a.query('prob_left < .9 and prob_middle < .9 and prob_right < .9')\n",
    "aa = a#.query('option_left_str != \"1,1,1\" and option_middle_str != \"1,1,1\" and option_right_str != \"1,1,1\"')\n",
    "#aa = aa.query('')\n",
    "new_sum_score = []\n",
    "new_hit_or_blow = []\n",
    "s = 0\n",
    "for i in aa.hit_or_blow.index:\n",
    "    left = aa.option_left[i]\n",
    "    middle = aa.option_middle[i]\n",
    "    right = aa.option_right[i]\n",
    "    if ( if_competitive(left,middle,right)):\n",
    "        if (aa.hit_or_blow[i]):\n",
    "            s += 10\n",
    "            new_hit_or_blow.append(10)\n",
    "        else:\n",
    "            new_hit_or_blow.append(0)\n",
    "        new_sum_score.append(s)\n",
    "\n",
    "sns.lineplot(range(len(new_sum_score)), new_sum_score)\n",
    "\n",
    "ave_hit_rate = []\n",
    "n =15\n",
    "for i in range(len(new_hit_or_blow)-n):\n",
    "    ave_hit_rate.append(sum(new_hit_or_blow[i:i+n]) / n*10)\n",
    "plt.figure()\n",
    "sns.lineplot(range(len(ave_hit_rate)),ave_hit_rate)\n"
   ]
  },
  {
   "cell_type": "code",
   "execution_count": 72,
   "metadata": {},
   "outputs": [
    {
     "data": {
      "text/plain": [
       "False"
      ]
     },
     "execution_count": 72,
     "metadata": {},
     "output_type": "execute_result"
    }
   ],
   "source": [
    "a.option_left[1][0] == 1 and a.option_left[1][1] == 1 and a.option_left[1][2] == 1\n",
    "(a.option_left[1] ==[1,1,1]).all()"
   ]
  },
  {
   "cell_type": "code",
   "execution_count": 6,
   "metadata": {},
   "outputs": [
    {
     "name": "stdout",
     "output_type": "stream",
     "text": [
      "True\n",
      "[ 0  1 -1]\n",
      "True\n"
     ]
    }
   ],
   "source": [
    "t = np.array([1,2,1])\n",
    "u = np.array([1,1,2])\n",
    "\n",
    "print([1,2,1] > [1,1,2])\n",
    "print(t - u)\n",
    "print((t  >= [1,1,1]).all())"
   ]
  },
  {
   "cell_type": "code",
   "execution_count": 81,
   "metadata": {},
   "outputs": [
    {
     "data": {
      "text/plain": [
       "array([False, False,  True])"
      ]
     },
     "execution_count": 81,
     "metadata": {},
     "output_type": "execute_result"
    }
   ],
   "source": [
    "def compare(a,b):\n",
    "    # both a, b should be np.array\n",
    "    diff = a-b\n",
    "    if ((diff >= [0,0,0]).all()):\n",
    "        return \"left_is_bigger\"\n",
    "    if ((diff <= [0,0,0]).all()):\n",
    "        return \"right_is_bigger\"\n",
    "    return \"these_are_comparable\""
   ]
  },
  {
   "cell_type": "code",
   "execution_count": 102,
   "metadata": {
    "scrolled": false
   },
   "outputs": [
    {
     "data": {
      "application/vnd.jupyter.widget-view+json": {
       "model_id": "c2d1f53343d5488f88ef610c5f7a0f36",
       "version_major": 2,
       "version_minor": 0
      },
      "text/plain": [
       "interactive(children=(RadioButtons(description='filename', index=5, options=('../data/test/_arata_test_2019111…"
      ]
     },
     "metadata": {},
     "output_type": "display_data"
    },
    {
     "data": {
      "text/plain": [
       "<function __main__.plot(filename='../data/test/shinobu_test_20191118.csv', n4ave=10)>"
      ]
     },
     "execution_count": 102,
     "metadata": {},
     "output_type": "execute_result"
    }
   ],
   "source": [
    "def get_file_name(path):\n",
    "    files = []\n",
    "    for filename in os.listdir(path):\n",
    "        files.append(os.path.join(path, filename))\n",
    "    return sorted(sorted(files))\n",
    "\n",
    "filename6 = \"../data/test/shinobu_test_20191118.csv\"\n",
    "def read_logfile(filename=filename6):\n",
    "    a = read_csv(filename)\n",
    "    #print(a.describe())\n",
    "    a['option_left_str'] = a.option_left\n",
    "    a['option_middle_str']  = a.option_middle\n",
    "    a['option_right_str']  = a.option_right\n",
    "    a.option_left = str2option(a.option_left)\n",
    "    a.option_middle = str2option(a.option_middle)\n",
    "    a.option_right = str2option(a.option_right)\n",
    "    a.prob_left = a.prob_left.astype(float)/100.0\n",
    "    a.prob_middle = a.prob_middle.astype(float)/100.0\n",
    "    a.prob_right = a.prob_right.astype(float)/100.0\n",
    "    a['best_option'] = get_best_exp_option(a.prob_left, a.prob_middle, a.prob_right)\n",
    "    a.hit_or_blow = str2bool(a.hit_or_blow)\n",
    "    a.sum_score = a.sum_score.astype(int)\n",
    "    a.rt = a.rt.astype(float)\n",
    "    return a\n",
    "def get_best_exp_option(prob_ls, prob_ms, prob_rs):\n",
    "    ret = []\n",
    "    for i in range(len(prob_ls)):\n",
    "        ret.append(get_best_exp_option0(prob_ls[i], prob_ms[i], prob_rs[i]))\n",
    "    return ret\n",
    "def get_best_exp_option0(prob_l, prob_m, prob_r):\n",
    "    if(prob_l >= prob_m and prob_l>=prob_r):\n",
    "        return \"left\"\n",
    "    if(prob_m >= prob_l and prob_m>=prob_r):\n",
    "        return \"middle\"\n",
    "    if(prob_r >= prob_l and prob_r>=prob_m):\n",
    "        return \"right\"\n",
    "\n",
    "def plot(filename=filename6, n4ave=10):\n",
    "    a = read_logfile(filename)\n",
    "    plt.subplot(2,2,1)\n",
    "    g = sns.distplot(a.rt)\n",
    "    #g.set(xlim=(0,3), ylim=(0,30))\n",
    "    \n",
    "    #aa = a.query('prob_left < .9 and prob_middle < .9 and prob_right < .9')\n",
    "    aa = a#.query('option_left_str != \"1,1,1\" and option_middle_str != \"1,1,1\" and option_right_str != \"1,1,1\"')\n",
    "    #aa = aa.query('')\n",
    "    new_sum_score = []\n",
    "    new_hit_or_blow = []\n",
    "    s = 0\n",
    "    for i in aa.hit_or_blow.index:\n",
    "        left = aa.option_left[i]\n",
    "        middle = aa.option_middle[i]\n",
    "        right = aa.option_right[i]\n",
    "        if ( if_competitive(left,middle,right)):\n",
    "            if (aa.hit_or_blow[i]):\n",
    "                s += 10\n",
    "                new_hit_or_blow.append(10)\n",
    "            else:\n",
    "                new_hit_or_blow.append(0)\n",
    "            new_sum_score.append(s)\n",
    "            \n",
    "    plt.subplot(2,2,2)\n",
    "    sns.lineplot(range(len(new_sum_score)), new_sum_score)\n",
    "\n",
    "    plt.subplot(2,2,3)\n",
    "    ave_hit_rate = []\n",
    "    n =n4ave #number of trials to calc average\n",
    "    for i in range(len(new_sum_score)-n):\n",
    "        ave_hit_rate.append(sum(new_sum_score[i:i+n]) / n*10) \n",
    "    g = sns.lineplot(range(len(ave_hit_rate)),ave_hit_rate)\n",
    "    g.set(ylim=(20,100))\n",
    "    g.set_xticks(np.linspace(0, 300, 31), minor=True)  #---------------------\n",
    "    g.set_yticks(np.linspace(20,100,17), minor=True)\n",
    "    g.grid(color='darkgray', linestyle='-', linewidth=0.3, which='both')\n",
    "    \n",
    "    plt.subplot(2,2,4)\n",
    "    correct_choice = []\n",
    "    #for i in range(len(a.best_option)):\n",
    "    #    correct_choice.append(a.best_option[i] == a.choice)\n",
    "    correct_choice = (a.best_option == a.choice)\n",
    "    ave_correct_choice = []\n",
    "    for i in range(len(correct_choice)-n):\n",
    "        ave_correct_choice.append(sum(correct_choice[i:i+n]) / n*100)\n",
    "    g4 = sns.lineplot(range(len(ave_correct_choice)),ave_correct_choice)\n",
    "    g4.set(ylim=(20,100))\n",
    "    g4.set_xticks(np.linspace(0, 300, 31), minor=True)  #---------------------\n",
    "    g4.set_yticks(np.linspace(20,100,17), minor=True)\n",
    "    g4.grid(color='darkgray', linestyle='-', linewidth=0.3, which='both')\n",
    "    return\n",
    "\n",
    "\n",
    "file = get_file_name('../data/test')    #('rate')\n",
    "interact(plot, filename = widgets.RadioButtons(options=file, value=file[5]),\n",
    "        n4ave = widgets.IntSlider(min=1, max=30, step=1, value=15))"
   ]
  },
  {
   "cell_type": "code",
   "execution_count": null,
   "metadata": {},
   "outputs": [],
   "source": []
  }
 ],
 "metadata": {
  "kernelspec": {
   "display_name": "Python 3",
   "language": "python",
   "name": "python3"
  },
  "language_info": {
   "codemirror_mode": {
    "name": "ipython",
    "version": 3
   },
   "file_extension": ".py",
   "mimetype": "text/x-python",
   "name": "python",
   "nbconvert_exporter": "python",
   "pygments_lexer": "ipython3",
   "version": "3.6.8"
  }
 },
 "nbformat": 4,
 "nbformat_minor": 2
}
