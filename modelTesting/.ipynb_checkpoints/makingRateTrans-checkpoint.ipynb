{
 "cells": [
  {
   "cell_type": "code",
   "execution_count": null,
   "metadata": {},
   "outputs": [],
   "source": [
    "class Agent:\n",
    "    val = 'ここで複数のエージェントを定義する。';\n",
    "    # 変数の出力を扱うことも、関数として定義したほうがいいか。\n",
    "    # CSVへの出力でも。\n",
    "\n",
    "class Stimulus:\n",
    "    def dist(option1, option2): # optionが長さ3の配列の場合。データ構造どうしよう・・・\n",
    "        return abs(option1[0] - option2[0]) + abs(option1[1] - option2[1]) + abs(option1[2] - option2[2]) \n",
    "            "
   ]
  },
  {
   "cell_type": "code",
   "execution_count": 134,
   "metadata": {},
   "outputs": [
    {
     "ename": "NameError",
     "evalue": "name 'values' is not defined",
     "output_type": "error",
     "traceback": [
      "\u001b[0;31m---------------------------------------------------------------------------\u001b[0m",
      "\u001b[0;31mNameError\u001b[0m                                 Traceback (most recent call last)",
      "\u001b[0;32m<ipython-input-134-fb7272672c80>\u001b[0m in \u001b[0;36m<module>\u001b[0;34m\u001b[0m\n\u001b[1;32m      1\u001b[0m \u001b[0;32mimport\u001b[0m \u001b[0mnumpy\u001b[0m \u001b[0;32mas\u001b[0m \u001b[0mnp\u001b[0m\u001b[0;34m\u001b[0m\u001b[0;34m\u001b[0m\u001b[0m\n\u001b[1;32m      2\u001b[0m \u001b[0;34m\u001b[0m\u001b[0m\n\u001b[0;32m----> 3\u001b[0;31m \u001b[0mvalues\u001b[0m\u001b[0;34m.\u001b[0m\u001b[0mupdate\u001b[0m\u001b[0;34m(\u001b[0m\u001b[0mn\u001b[0m\u001b[0;34m,\u001b[0m \u001b[0mreward\u001b[0m\u001b[0;34m)\u001b[0m\u001b[0;34m\u001b[0m\u001b[0;34m\u001b[0m\u001b[0m\n\u001b[0m\u001b[1;32m      4\u001b[0m \u001b[0;34m\u001b[0m\u001b[0m\n\u001b[1;32m      5\u001b[0m \u001b[0;34m\u001b[0m\u001b[0m\n",
      "\u001b[0;31mNameError\u001b[0m: name 'values' is not defined"
     ]
    }
   ],
   "source": [
    "import numpy as np\n",
    "\n",
    "values.update(n, reward)\n",
    "\n",
    "\n",
    "class Values:\n",
    "    val =  np.zeros(8)\n",
    "    def __init__(self, n):\n",
    "        self.val = np.zeros(n)\n",
    "    \n",
    "    # \n",
    "    def update(self, n, reward):\n",
    "        v_t = self.val[n]\n",
    "        self.val[n] = v_t + self.alpha * (reward - v_t)\n",
    "        \n",
    "    def my_print(self):\n",
    "        print(self.val)\n",
    "        \n",
    "        "
   ]
  },
  {
   "cell_type": "code",
   "execution_count": 135,
   "metadata": {},
   "outputs": [
    {
     "ename": "FileNotFoundError",
     "evalue": "[Errno 2] No such file or directory: 'TestCsv/sample_writer_row.csv'",
     "output_type": "error",
     "traceback": [
      "\u001b[0;31m---------------------------------------------------------------------------\u001b[0m",
      "\u001b[0;31mFileNotFoundError\u001b[0m                         Traceback (most recent call last)",
      "\u001b[0;32m<ipython-input-135-99bf298078bf>\u001b[0m in \u001b[0;36m<module>\u001b[0;34m\u001b[0m\n\u001b[1;32m     10\u001b[0m \u001b[0;32mimport\u001b[0m \u001b[0mnumpy\u001b[0m \u001b[0;32mas\u001b[0m \u001b[0mnp\u001b[0m\u001b[0;34m\u001b[0m\u001b[0;34m\u001b[0m\u001b[0m\n\u001b[1;32m     11\u001b[0m \u001b[0;34m\u001b[0m\u001b[0m\n\u001b[0;32m---> 12\u001b[0;31m \u001b[0;32mwith\u001b[0m \u001b[0mopen\u001b[0m\u001b[0;34m(\u001b[0m\u001b[0;34m'TestCsv/sample_writer_row.csv'\u001b[0m\u001b[0;34m,\u001b[0m \u001b[0;34m'w'\u001b[0m\u001b[0;34m)\u001b[0m \u001b[0;32mas\u001b[0m \u001b[0mf\u001b[0m\u001b[0;34m:\u001b[0m\u001b[0;34m\u001b[0m\u001b[0;34m\u001b[0m\u001b[0m\n\u001b[0m\u001b[1;32m     13\u001b[0m     \u001b[0mwriter\u001b[0m \u001b[0;34m=\u001b[0m \u001b[0mcsv\u001b[0m\u001b[0;34m.\u001b[0m\u001b[0mwriter\u001b[0m\u001b[0;34m(\u001b[0m\u001b[0mf\u001b[0m\u001b[0;34m)\u001b[0m\u001b[0;34m\u001b[0m\u001b[0;34m\u001b[0m\u001b[0m\n\u001b[1;32m     14\u001b[0m     \u001b[0mwriter\u001b[0m\u001b[0;34m.\u001b[0m\u001b[0mwriterow\u001b[0m\u001b[0;34m(\u001b[0m\u001b[0;34m[\u001b[0m\u001b[0;36m0\u001b[0m\u001b[0;34m,\u001b[0m \u001b[0;36m1\u001b[0m\u001b[0;34m,\u001b[0m \u001b[0;36m2\u001b[0m\u001b[0;34m]\u001b[0m\u001b[0;34m)\u001b[0m\u001b[0;34m\u001b[0m\u001b[0;34m\u001b[0m\u001b[0m\n",
      "\u001b[0;31mFileNotFoundError\u001b[0m: [Errno 2] No such file or directory: 'TestCsv/sample_writer_row.csv'"
     ]
    }
   ],
   "source": [
    "# ここに、書く。\n",
    "# 何かを、書く。\n",
    "# 確率の推移を、生成する。\n",
    "# ランダムウォーク。\n",
    "# 合計が　3　になるように\n",
    "\n",
    "\n",
    "import csv\n",
    "import pprint\n",
    "import numpy as np\n",
    "\n",
    "with open('TestCsv/sample_writer_row.csv', 'w') as f:\n",
    "    writer = csv.writer(f)\n",
    "    writer.writerow([0, 1, 2])\n",
    "    writer.writerow(['a', 'b', 'c'])\n",
    "with open('TestCsv/sample_writer_row.csv', 'w') as f:\n",
    "    writer = csv.writer(f)\n",
    "    writer.writerow([0, 1, 2])\n",
    "    writer.writerow(np.array(['a', 'b', 'c']))\n",
    "\n",
    "with open('TestCsv/sample_writer_row.csv', 'a') as f:\n",
    "    writer = csv.writer(f)\n",
    "    writer.writerow(np.array([0, 1, 2]))\n",
    "    writer.writerow(np.array(['a', 'b', 'c']))\n",
    "    \n",
    "with open('TestCsv/sample_writer_row.csv') as f:\n",
    "    print(f.read())"
   ]
  },
  {
   "cell_type": "code",
   "execution_count": 136,
   "metadata": {},
   "outputs": [
    {
     "name": "stdout",
     "output_type": "stream",
     "text": [
      "[33  7 60]\n",
      "33\n",
      "[34  9 63]\n"
     ]
    }
   ],
   "source": [
    "import random as rd\n",
    "import numpy as np\n",
    "\n",
    "def makeInitVal():\n",
    "    a = rd.randint(0, 100)\n",
    "    b = rd.randint(0, 100 - a)\n",
    "    c = 100 - a -b\n",
    "    return np.array([a, b, c])\n",
    "\n",
    "a = makeInitVal() \n",
    "print(a)\n",
    "print(a[0])\n",
    "print(a + np.array([1, 2, 3]))\n"
   ]
  },
  {
   "cell_type": "code",
   "execution_count": 264,
   "metadata": {},
   "outputs": [],
   "source": [
    "import csv\n",
    "import random as rd\n",
    "import numpy as np\n",
    "import os\n",
    "import math\n",
    "\n",
    "times = 30\n",
    "\n",
    "def makeInitVal():\n",
    "    a = rd.randint(0, 100)\n",
    "    b = rd.randint(0, 100 - a)\n",
    "    c = 100 - a -b\n",
    "    return np.array([a, b, c])\n",
    "\n",
    "def makeZeroSumRandomWalk(size):\n",
    "    a = rd.randint(-size, size)\n",
    "    b = rd.randint(max(-size-a, -size),  min(size, size-a))\n",
    "    c = 0 - a - b\n",
    "    return np.array([a, b, c])\n",
    "\n",
    "def randomWalk(base, size):\n",
    "    while True:\n",
    "        added = base + makeZeroSumRandomWalk(size)\n",
    "        if (np.all(np.array([0,0,0]) <= added) and np.all(added <= np.array([100,100,100]))):\n",
    "            return added\n",
    "\n",
    "def makeTable(i, trials, walkSize):\n",
    "    arr = []\n",
    "    with open('rate/rateTable_size'+ str(walkSize) + '_' + str(trials) + 'trials_' + str(i).zfill(3) + '.csv', 'w') as f:\n",
    "        writer = csv.writer(f)\n",
    "        lastRow = makeInitVal();\n",
    "        arr.append(lastRow)\n",
    "        for j in range(trials - 1):\n",
    "            lastRow =  randomWalk(lastRow, walkSize)\n",
    "            arr.append(lastRow)\n",
    "        arr = np.array(arr).transpose()\n",
    "        arr = smooth2d(arr)\n",
    "        writer.writerows(arr)\n",
    "    return\n",
    "        \n",
    "\"\"\"\n",
    "def makeTable(i, trials, walkSize):\n",
    "    with open('rate/rateTable_size'+ str(walkSize) + '_' + str(trials) + 'trials_' + str(i).zfill(3) + '.csv', 'w') as f:\n",
    "        writer = csv.writer(f)\n",
    "        lastRow = makeInitVal();\n",
    "        writer.writerow(lastRow)\n",
    "        for j in range(trials - 1):\n",
    "            lastRow =  randomWalk(lastRow, walkSize)\n",
    "            writer.writerow(lastRow)\n",
    "    return\n",
    "\"\"\"\n",
    "\n",
    "def get_file_name(path):\n",
    "    files = []\n",
    "    for filename in os.listdir(path):\n",
    "        files.append(os.path.join(path, filename))\n",
    "    return files\n",
    "\n",
    "\n",
    "def smooth(arr):\n",
    "    ret = []\n",
    "    for i in range(len(arr)):\n",
    "        ret.append(math.floor(np.mean(arr[max(0,i-3):min(len(arr)-1, i+3)])))\n",
    "    return ret\n",
    "\n",
    "def smooth2d(mat):\n",
    "    for i in range(len(mat)):\n",
    "        mat[i] = smooth(mat[i])\n",
    "    return mat\n",
    "\n",
    "        "
   ]
  },
  {
   "cell_type": "code",
   "execution_count": null,
   "metadata": {},
   "outputs": [],
   "source": [
    "# test smooth()\n"
   ]
  },
  {
   "cell_type": "code",
   "execution_count": null,
   "metadata": {},
   "outputs": [],
   "source": []
  },
  {
   "cell_type": "code",
   "execution_count": 265,
   "metadata": {},
   "outputs": [],
   "source": [
    "# 確率推移のグラフを作る\n",
    "for i in range(20):\n",
    "    makeTable(i, 300, 12)\n",
    "#"
   ]
  },
  {
   "cell_type": "code",
   "execution_count": 245,
   "metadata": {},
   "outputs": [
    {
     "name": "stdout",
     "output_type": "stream",
     "text": [
      "rate/rateTable_size12_300trials_010.csv\n"
     ]
    }
   ],
   "source": [
    "\n",
    "\n",
    "import os\n",
    "\n",
    "def get_file_name(path):\n",
    "    files = []\n",
    "    for filename in os.listdir(path):\n",
    "        files.append(os.path.join(path, filename))\n",
    "    return sorted(files)\n",
    "\n",
    "#取得できているかのチェック\n",
    "f = sorted(get_file_name('rate'))\n",
    "print(f[10])"
   ]
  },
  {
   "cell_type": "code",
   "execution_count": 166,
   "metadata": {},
   "outputs": [
    {
     "data": {
      "application/vnd.jupyter.widget-view+json": {
       "model_id": "b63ec58092cf455eafe338ac95a4507c",
       "version_major": 2,
       "version_minor": 0
      },
      "text/plain": [
       "interactive(children=(IntSlider(value=0, description='x', max=10, min=-10, step=2), Output()), _dom_classes=('…"
      ]
     },
     "metadata": {},
     "output_type": "display_data"
    }
   ],
   "source": [
    "# def show_table():\n",
    "import pandas as pd\n",
    "from scipy import stats\n",
    "import seaborn as sns\n",
    "from ptitprince import PtitPrince as pt\n",
    "import matplotlib.pyplot as plt\n",
    "from IPython.html.widgets import interact, interactive, fixed\n",
    "from IPython.html import widgets\n",
    "\n",
    "f  = get_file_name('rate')\n",
    "    \n",
    "def f(x):\n",
    "    print(x)\n",
    "        \n",
    "interact(f, x=widgets.IntSlider(min=-10, max=10, step=2, value=0));\n"
   ]
  },
  {
   "cell_type": "code",
   "execution_count": 272,
   "metadata": {
    "scrolled": false
   },
   "outputs": [
    {
     "data": {
      "application/vnd.jupyter.widget-view+json": {
       "model_id": "f38eabafd2d44beeb0756c617dc537b8",
       "version_major": 2,
       "version_minor": 0
      },
      "text/plain": [
       "interactive(children=(IntSlider(value=0, description='i', max=300), Output()), _dom_classes=('widget-interact'…"
      ]
     },
     "metadata": {},
     "output_type": "display_data"
    }
   ],
   "source": [
    "import csv\n",
    "import pandas as pd\n",
    "from scipy import stats\n",
    "import seaborn as sns\n",
    "import matplotlib.pyplot as plt\n",
    "import numpy as np\n",
    "\n",
    "def plot(i):\n",
    "    file = get_file_name('rate')\n",
    "    with open(file[i], 'r', encoding=\"utf8\") as f:\n",
    "        tmp = np.array(list(csv.reader(f))).astype(np.int)\n",
    "        print(tmp)\n",
    "        arr = pd.DataFrame(tmp, index=['a','b','c'])\n",
    "        fig, ax = plt.subplots()\n",
    "        ax = sns.lineplot(data=arr)\n",
    "        ax.set_ylim(0,100)\n",
    "        ax.set_xlim(-1,301)\n",
    "        ax.axhspan(65,100 ,alpha=0.1, color='red')\n",
    "        ax.axhspan(55,65 ,alpha=0.05, color='red')\n",
    "        print(file[i])\n",
    "\n",
    "interact(plot, i=widgets.IntSlider(min=0, max=300, step=1, value=0));"
   ]
  },
  {
   "cell_type": "code",
   "execution_count": null,
   "metadata": {},
   "outputs": [],
   "source": []
  },
  {
   "cell_type": "code",
   "execution_count": null,
   "metadata": {},
   "outputs": [],
   "source": []
  }
 ],
 "metadata": {
  "kernelspec": {
   "display_name": "Python 3",
   "language": "python",
   "name": "python3"
  },
  "language_info": {
   "codemirror_mode": {
    "name": "ipython",
    "version": 3
   },
   "file_extension": ".py",
   "mimetype": "text/x-python",
   "name": "python",
   "nbconvert_exporter": "python",
   "pygments_lexer": "ipython3",
   "version": "3.6.8"
  }
 },
 "nbformat": 4,
 "nbformat_minor": 2
}
