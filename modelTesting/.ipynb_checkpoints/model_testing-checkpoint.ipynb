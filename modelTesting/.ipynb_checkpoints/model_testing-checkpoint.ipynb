{
 "cells": [
  {
   "cell_type": "code",
   "execution_count": 1,
   "metadata": {},
   "outputs": [
    {
     "name": "stderr",
     "output_type": "stream",
     "text": [
      "/Users/arataNonami/opt/anaconda3/lib/python3.7/site-packages/IPython/html.py:14: ShimWarning: The `IPython.html` package has been deprecated since IPython 4.0. You should import from `notebook` instead. `IPython.html.widgets` has moved to `ipywidgets`.\n",
      "  \"`IPython.html.widgets` has moved to `ipywidgets`.\", ShimWarning)\n"
     ]
    }
   ],
   "source": [
    "import sys\n",
    "sys.path.append('..')\n",
    "\n",
    "import myfcns\n",
    "import model\n",
    "import agents\n",
    "\n",
    "import pandas as pd\n",
    "import numpy as np\n",
    "from scipy import stats\n",
    "from scipy.optimize import rosen, differential_evolution, minimize, basinhopping, brute,fmin\n",
    "from mpl_toolkits.mplot3d import Axes3D\n",
    "\n",
    "import os\n",
    "import sys\n",
    "import time\n",
    "import csv\n",
    "import datetime\n",
    "import math\n",
    "\n",
    "import matplotlib.pyplot as plt\n",
    "import seaborn as sns\n",
    "from ptitprince import PtitPrince as pt\n",
    "\n",
    "\n",
    "from IPython.html.widgets import interact, interactive, fixed\n",
    "from IPython.html import widgets\n",
    "'''\n",
    "/anaconda3/lib/python3.6/site-packages/IPython/html.py:14: ShimWarning: \n",
    "The `IPython.html` package has been deprecated since IPython 4.0. \n",
    "You should import from `notebook` instead. \n",
    "`IPython.html.widgets` has moved to `ipywidgets`.\n",
    "  \"`IPython.html.widgets` has moved to `ipywidgets`.\", ShimWarning)\n",
    "'''\n",
    "\n",
    "import random as rd\n",
    "import math\n",
    "from decimal import Decimal, ROUND_HALF_UP, ROUND_HALF_EVEN\n",
    "\n"
   ]
  },
  {
   "cell_type": "code",
   "execution_count": null,
   "metadata": {},
   "outputs": [],
   "source": []
  },
  {
   "cell_type": "code",
   "execution_count": 16,
   "metadata": {
    "scrolled": false
   },
   "outputs": [
    {
     "data": {
      "application/vnd.jupyter.widget-view+json": {
       "model_id": "788391beb5ae42449fbb26d9c5703c00",
       "version_major": 2,
       "version_minor": 0
      },
      "text/plain": [
       "interactive(children=(IntSlider(value=1, description='runCount', max=1000, min=1, step=50), RadioButtons(descr…"
      ]
     },
     "metadata": {},
     "output_type": "display_data"
    },
    {
     "data": {
      "text/plain": [
       "<function __main__.average_score_of_agent(runCount=200, agent_name='AgentFeatureRL', without_plot=True, alpha=0.05, beta=10, filename='rateTable_size20_300trials_0004')>"
      ]
     },
     "execution_count": 16,
     "metadata": {},
     "output_type": "execute_result"
    }
   ],
   "source": [
    "def tryAgent(filename, agent_name ='AgentFeatureRL' , without_plot=False, alpha = .05, beta = 10, ):\n",
    "    g = model.Game(filename)\n",
    "    a = eval('agents.' + agent_name)(alpha=alpha, beta = beta)\n",
    "    m = model.Memory(g.filename, a.agent_name)\n",
    "    \n",
    "    for i in range(g.n_trial):\n",
    "        options = g.get_options()\n",
    "        \n",
    "        #values = a.get_values(options)\n",
    "        #choice_rate = a.get_choice_probs(options)\n",
    "        choice = a.get_choice(options)\n",
    "        correct_or_not = g.correct_or_not(choice)\n",
    "        #updated_v_table = a.update(choice, correct_or_not)\n",
    "    \n",
    "        #m.save_options(options)\n",
    "        print(g.arr2int(choice))\n",
    "        m.save_option_chosen(g.arr2int(choice))\n",
    "        m.save_if_correct(correct_or_not)\n",
    "        #m.save_value_table(updated_v_table)\n",
    "        #m.save_choice_probs(choice_rate)\n",
    "    sns.distplot(m.option_chosen)\n",
    "    if (without_plot == True):\n",
    "        return sum(m.if_correct)\n",
    "    ax = plt.figure()\n",
    "    plt.plot(m.value_table_flatten)\n",
    "    ax.legend(a.legend)\n",
    "    #m.save_data(a.get_init_val())\n",
    "    return sum(m.if_correct)\n",
    "\n",
    "def average_score_of_agent(runCount = 200, agent_name ='AgentFeatureRL' , \n",
    "                           without_plot=True, alpha = .05, beta = 10, \n",
    "                           filename= 'rateTable_size20_300trials_0004' ):\n",
    "    filename = 'rate_table/'+ filename + '.csv'\n",
    "    a = []\n",
    "    for i in range(runCount):\n",
    "        a.append(tryAgent(filename=filename, agent_name =agent_name, \n",
    "                          without_plot=without_plot, alpha = alpha, beta = beta))\n",
    "    print(a)\n",
    "    print(np.array(a).mean())\n",
    "    plt.figure()\n",
    "    sns.distplot(a,hist=False)\n",
    "    plt.figure()\n",
    "    sns.distplot(a, rug=True, rug_kws={\"color\": \"g\"}, \n",
    "                             kde_kws={\"color\": \"k\", \"lw\": 3, \"label\": \"KDE\"},\n",
    "                             hist_kws={\"histtype\": \"step\", \"linewidth\": 3,\"alpha\": 1, \"color\": \"g\"})\n",
    "    return\n",
    "\n",
    "interact(average_score_of_agent, \n",
    "         runCount = widgets.IntSlider(min=1, max=1000, step=50, value=1),\n",
    "         agent_name = widgets.RadioButtons(options=['AgentSimpleRL', 'AgentFeatureRL0', 'AgentFeatureRL', 'AgentGreedyRandom' ], value='AgentGreedyRandom'),\n",
    "         filename = widgets.RadioButtons(options=['stable70_25_5', \n",
    "                                                  'rateTable_size20_300trials_0001', \n",
    "                                                  'rateTable_size20_300trials_0002', \n",
    "                                                  'rateTable_size20_300trials_0003',\n",
    "                                                  'rateTable_size20_300trials_0004'], value='rateTable_size20_300trials_0004'),\n",
    "         beta = widgets.FloatSlider(min=0, max=20, step=.5, value=5),\n",
    "         alpha = widgets.FloatSlider(min=0, max=1.0, step=.05, value=.3))"
   ]
  },
  {
   "cell_type": "code",
   "execution_count": null,
   "metadata": {},
   "outputs": [],
   "source": []
  },
  {
   "cell_type": "code",
   "execution_count": null,
   "metadata": {},
   "outputs": [],
   "source": [
    "average_score_of_agent(runCount = 50, agent_name ='AgentSimpleRL' , \n",
    "                           without_plot=True, alpha = .05, beta = 10, \n",
    "                           filename= 'rateTable_size20_300trials_0004' ):"
   ]
  },
  {
   "cell_type": "code",
   "execution_count": null,
   "metadata": {},
   "outputs": [],
   "source": []
  },
  {
   "cell_type": "code",
   "execution_count": null,
   "metadata": {},
   "outputs": [],
   "source": []
  },
  {
   "cell_type": "code",
   "execution_count": null,
   "metadata": {},
   "outputs": [],
   "source": []
  }
 ],
 "metadata": {
  "kernelspec": {
   "display_name": "Python 3",
   "language": "python",
   "name": "python3"
  },
  "language_info": {
   "codemirror_mode": {
    "name": "ipython",
    "version": 3
   },
   "file_extension": ".py",
   "mimetype": "text/x-python",
   "name": "python",
   "nbconvert_exporter": "python",
   "pygments_lexer": "ipython3",
   "version": "3.7.4"
  }
 },
 "nbformat": 4,
 "nbformat_minor": 2
}
