{
 "cells": [
  {
   "cell_type": "code",
   "execution_count": 1,
   "metadata": {},
   "outputs": [
    {
     "name": "stderr",
     "output_type": "stream",
     "text": [
      "/Users/arataNonami/opt/anaconda3/lib/python3.7/site-packages/IPython/html.py:14: ShimWarning: The `IPython.html` package has been deprecated since IPython 4.0. You should import from `notebook` instead. `IPython.html.widgets` has moved to `ipywidgets`.\n",
      "  \"`IPython.html.widgets` has moved to `ipywidgets`.\", ShimWarning)\n"
     ]
    }
   ],
   "source": [
    "import sys\n",
    "sys.path.append('..')\n",
    "\n",
    "import myfcns\n",
    "import model\n",
    "import agents\n",
    "\n",
    "import pandas as pd\n",
    "import numpy as np\n",
    "from scipy import stats\n",
    "from scipy.optimize import rosen, differential_evolution, minimize, basinhopping, brute,fmin\n",
    "from mpl_toolkits.mplot3d import Axes3D\n",
    "\n",
    "import os\n",
    "import sys\n",
    "import time\n",
    "import csv\n",
    "import datetime\n",
    "import math\n",
    "\n",
    "import matplotlib.pyplot as plt\n",
    "import seaborn as sns\n",
    "from ptitprince import PtitPrince as pt\n",
    "\n",
    "\n",
    "from IPython.html.widgets import interact, interactive, fixed\n",
    "from IPython.html import widgets\n",
    "'''\n",
    "/anaconda3/lib/python3.6/site-packages/IPython/html.py:14: ShimWarning: \n",
    "The `IPython.html` package has been deprecated since IPython 4.0. \n",
    "You should import from `notebook` instead. \n",
    "`IPython.html.widgets` has moved to `ipywidgets`.\n",
    "  \"`IPython.html.widgets` has moved to `ipywidgets`.\", ShimWarning)\n",
    "'''\n",
    "\n",
    "import random as rd\n",
    "import math\n",
    "from decimal import Decimal, ROUND_HALF_UP, ROUND_HALF_EVEN\n"
   ]
  },
  {
   "cell_type": "code",
   "execution_count": 2,
   "metadata": {},
   "outputs": [],
   "source": [
    "# my fcn\n",
    "\n",
    "def a2s(x):  # 呼び出すときは、np.fromstring(txt, sep=',')\n",
    "    x = np.array(x).flatten()\n",
    "    return np.array2string(x, precision=2, separator=',',suppress_small=True)[1:-1]\n",
    "def plot4d(x,y,z,c,title=\"\"):\n",
    "    fig = plt.figure()\n",
    "    ax1 = fig.add_subplot(projection='3d')\n",
    "    c = c / min(c)\n",
    "    sc = ax1.scatter(x,y,z,zdir='z', c=c, cmap=plt.cm.autumn.reversed())  #binary\n",
    "    plt.colorbar(sc)\n",
    "    plt.title(title)\n",
    "    return\n",
    "choice2idx = {\"left\":0, \"middle\":1, \"right\":2}\n",
    "idx2choice = np.array([\"left\", \"middle\", \"right\"])\n",
    "\n",
    "files = myfcns.get_file_name(\"log\")\n",
    "game_filename = \"rateTable_size20_300trials_0004.csv\"\n",
    "#log = model.GameFromLog(log_filename)"
   ]
  },
  {
   "cell_type": "markdown",
   "metadata": {},
   "source": [
    "## 全て、当たり確率最大を選べた時の、得点の期待値"
   ]
  },
  {
   "cell_type": "code",
   "execution_count": 3,
   "metadata": {},
   "outputs": [
    {
     "name": "stdout",
     "output_type": "stream",
     "text": [
      "[234.02000000000015, 234.03999999999996, 237.89999999999998, 236.57999999999996, 227.40000000000003, 232.87999999999997, 237.18999999999997, 231.8099999999998, 239.42000000000004, 237.95999999999995, 234.23999999999992, 230.28999999999985, 233.55000000000007]\n"
     ]
    }
   ],
   "source": [
    "\n",
    "\n",
    "files = myfcns.get_file_name(\"log\")\n",
    "sum_probs = []\n",
    "a = []\n",
    "for file in files:\n",
    "    gfl = model.GameFromLog(file)\n",
    "    log = gfl.log\n",
    "    sum_prob = 0\n",
    "    for i in range(299):\n",
    "        probs = np.array([log.prob_left[i], log.prob_middle[i], log.prob_right[i]])\n",
    "        sum_prob += max(probs)\n",
    "    a.append(sum_prob)\n",
    "    sum_probs.append(sum_prob)\n",
    "    #print(sum_prob)\n",
    "print(sum_probs)\n"
   ]
  },
  {
   "cell_type": "code",
   "execution_count": 4,
   "metadata": {},
   "outputs": [
    {
     "name": "stdout",
     "output_type": "stream",
     "text": [
      "↓どれだけ上手く選んでも、理論値の最大得点の期待値は、\n",
      "234.4061538461538問 * 10点\n"
     ]
    }
   ],
   "source": [
    "print(\"↓どれだけ上手く選んでも、理論値の最大得点の期待値は、\\n{}問 * 10点\".format(sum(sum_probs)/ len(sum_probs)))"
   ]
  },
  {
   "cell_type": "markdown",
   "metadata": {},
   "source": [
    "## 正しい選択率"
   ]
  },
  {
   "cell_type": "code",
   "execution_count": 65,
   "metadata": {},
   "outputs": [
    {
     "ename": "ValueError",
     "evalue": "Shape of passed values is (2, 1), indices imply (2, 2)",
     "output_type": "error",
     "traceback": [
      "\u001b[0;31m---------------------------------------------------------------------------\u001b[0m",
      "\u001b[0;31mValueError\u001b[0m                                Traceback (most recent call last)",
      "\u001b[0;32m~/opt/anaconda3/lib/python3.7/site-packages/pandas/core/internals/managers.py\u001b[0m in \u001b[0;36mcreate_block_manager_from_blocks\u001b[0;34m(blocks, axes)\u001b[0m\n\u001b[1;32m   1677\u001b[0m                 blocks = [\n\u001b[0;32m-> 1678\u001b[0;31m                     \u001b[0mmake_block\u001b[0m\u001b[0;34m(\u001b[0m\u001b[0mvalues\u001b[0m\u001b[0;34m=\u001b[0m\u001b[0mblocks\u001b[0m\u001b[0;34m[\u001b[0m\u001b[0;36m0\u001b[0m\u001b[0;34m]\u001b[0m\u001b[0;34m,\u001b[0m \u001b[0mplacement\u001b[0m\u001b[0;34m=\u001b[0m\u001b[0mslice\u001b[0m\u001b[0;34m(\u001b[0m\u001b[0;36m0\u001b[0m\u001b[0;34m,\u001b[0m \u001b[0mlen\u001b[0m\u001b[0;34m(\u001b[0m\u001b[0maxes\u001b[0m\u001b[0;34m[\u001b[0m\u001b[0;36m0\u001b[0m\u001b[0;34m]\u001b[0m\u001b[0;34m)\u001b[0m\u001b[0;34m)\u001b[0m\u001b[0;34m)\u001b[0m\u001b[0;34m\u001b[0m\u001b[0;34m\u001b[0m\u001b[0m\n\u001b[0m\u001b[1;32m   1679\u001b[0m                 ]\n",
      "\u001b[0;32m~/opt/anaconda3/lib/python3.7/site-packages/pandas/core/internals/blocks.py\u001b[0m in \u001b[0;36mmake_block\u001b[0;34m(values, placement, klass, ndim, dtype, fastpath)\u001b[0m\n\u001b[1;32m   3266\u001b[0m \u001b[0;34m\u001b[0m\u001b[0m\n\u001b[0;32m-> 3267\u001b[0;31m     \u001b[0;32mreturn\u001b[0m \u001b[0mklass\u001b[0m\u001b[0;34m(\u001b[0m\u001b[0mvalues\u001b[0m\u001b[0;34m,\u001b[0m \u001b[0mndim\u001b[0m\u001b[0;34m=\u001b[0m\u001b[0mndim\u001b[0m\u001b[0;34m,\u001b[0m \u001b[0mplacement\u001b[0m\u001b[0;34m=\u001b[0m\u001b[0mplacement\u001b[0m\u001b[0;34m)\u001b[0m\u001b[0;34m\u001b[0m\u001b[0;34m\u001b[0m\u001b[0m\n\u001b[0m\u001b[1;32m   3268\u001b[0m \u001b[0;34m\u001b[0m\u001b[0m\n",
      "\u001b[0;32m~/opt/anaconda3/lib/python3.7/site-packages/pandas/core/internals/blocks.py\u001b[0m in \u001b[0;36m__init__\u001b[0;34m(self, values, placement, ndim)\u001b[0m\n\u001b[1;32m   2774\u001b[0m \u001b[0;34m\u001b[0m\u001b[0m\n\u001b[0;32m-> 2775\u001b[0;31m         \u001b[0msuper\u001b[0m\u001b[0;34m(\u001b[0m\u001b[0;34m)\u001b[0m\u001b[0;34m.\u001b[0m\u001b[0m__init__\u001b[0m\u001b[0;34m(\u001b[0m\u001b[0mvalues\u001b[0m\u001b[0;34m,\u001b[0m \u001b[0mndim\u001b[0m\u001b[0;34m=\u001b[0m\u001b[0mndim\u001b[0m\u001b[0;34m,\u001b[0m \u001b[0mplacement\u001b[0m\u001b[0;34m=\u001b[0m\u001b[0mplacement\u001b[0m\u001b[0;34m)\u001b[0m\u001b[0;34m\u001b[0m\u001b[0;34m\u001b[0m\u001b[0m\n\u001b[0m\u001b[1;32m   2776\u001b[0m \u001b[0;34m\u001b[0m\u001b[0m\n",
      "\u001b[0;32m~/opt/anaconda3/lib/python3.7/site-packages/pandas/core/internals/blocks.py\u001b[0m in \u001b[0;36m__init__\u001b[0;34m(self, values, placement, ndim)\u001b[0m\n\u001b[1;32m    127\u001b[0m                 \u001b[0;34m\"Wrong number of items passed {val}, placement implies \"\u001b[0m\u001b[0;34m\u001b[0m\u001b[0;34m\u001b[0m\u001b[0m\n\u001b[0;32m--> 128\u001b[0;31m                 \u001b[0;34m\"{mgr}\"\u001b[0m\u001b[0;34m.\u001b[0m\u001b[0mformat\u001b[0m\u001b[0;34m(\u001b[0m\u001b[0mval\u001b[0m\u001b[0;34m=\u001b[0m\u001b[0mlen\u001b[0m\u001b[0;34m(\u001b[0m\u001b[0mself\u001b[0m\u001b[0;34m.\u001b[0m\u001b[0mvalues\u001b[0m\u001b[0;34m)\u001b[0m\u001b[0;34m,\u001b[0m \u001b[0mmgr\u001b[0m\u001b[0;34m=\u001b[0m\u001b[0mlen\u001b[0m\u001b[0;34m(\u001b[0m\u001b[0mself\u001b[0m\u001b[0;34m.\u001b[0m\u001b[0mmgr_locs\u001b[0m\u001b[0;34m)\u001b[0m\u001b[0;34m)\u001b[0m\u001b[0;34m\u001b[0m\u001b[0;34m\u001b[0m\u001b[0m\n\u001b[0m\u001b[1;32m    129\u001b[0m             )\n",
      "\u001b[0;31mValueError\u001b[0m: Wrong number of items passed 1, placement implies 2",
      "\nDuring handling of the above exception, another exception occurred:\n",
      "\u001b[0;31mValueError\u001b[0m                                Traceback (most recent call last)",
      "\u001b[0;32m<ipython-input-65-da1efcd90567>\u001b[0m in \u001b[0;36m<module>\u001b[0;34m\u001b[0m\n\u001b[1;32m     27\u001b[0m \u001b[0;34m\u001b[0m\u001b[0m\n\u001b[1;32m     28\u001b[0m \u001b[0midx\u001b[0m \u001b[0;34m=\u001b[0m \u001b[0mnp\u001b[0m\u001b[0;34m.\u001b[0m\u001b[0mtile\u001b[0m\u001b[0;34m(\u001b[0m\u001b[0mnp\u001b[0m\u001b[0;34m.\u001b[0m\u001b[0marange\u001b[0m\u001b[0;34m(\u001b[0m\u001b[0;36m0\u001b[0m\u001b[0;34m,\u001b[0m\u001b[0mlen\u001b[0m\u001b[0;34m(\u001b[0m\u001b[0my\u001b[0m\u001b[0;34m)\u001b[0m\u001b[0;34m)\u001b[0m\u001b[0;34m,\u001b[0m \u001b[0mlen\u001b[0m\u001b[0;34m(\u001b[0m\u001b[0mfiles\u001b[0m\u001b[0;34m)\u001b[0m\u001b[0;34m)\u001b[0m\u001b[0;34m\u001b[0m\u001b[0;34m\u001b[0m\u001b[0m\n\u001b[0;32m---> 29\u001b[0;31m \u001b[0mdf\u001b[0m \u001b[0;34m=\u001b[0m \u001b[0mpd\u001b[0m\u001b[0;34m.\u001b[0m\u001b[0mDataFrame\u001b[0m\u001b[0;34m(\u001b[0m\u001b[0mnp\u001b[0m\u001b[0;34m.\u001b[0m\u001b[0marray\u001b[0m\u001b[0;34m(\u001b[0m\u001b[0;34m[\u001b[0m\u001b[0midx\u001b[0m\u001b[0;34m,\u001b[0m\u001b[0my\u001b[0m\u001b[0;34m]\u001b[0m\u001b[0;34m)\u001b[0m\u001b[0;34m.\u001b[0m\u001b[0mtranspose\u001b[0m\u001b[0;34m(\u001b[0m\u001b[0;34m)\u001b[0m\u001b[0;34m,\u001b[0m \u001b[0mcolumns\u001b[0m\u001b[0;34m=\u001b[0m\u001b[0;34m[\u001b[0m\u001b[0;34m'trial'\u001b[0m\u001b[0;34m,\u001b[0m \u001b[0;34m'correct choice rate'\u001b[0m\u001b[0;34m]\u001b[0m\u001b[0;34m)\u001b[0m\u001b[0;34m\u001b[0m\u001b[0;34m\u001b[0m\u001b[0m\n\u001b[0m",
      "\u001b[0;32m~/opt/anaconda3/lib/python3.7/site-packages/pandas/core/frame.py\u001b[0m in \u001b[0;36m__init__\u001b[0;34m(self, data, index, columns, dtype, copy)\u001b[0m\n\u001b[1;32m    438\u001b[0m                 \u001b[0mmgr\u001b[0m \u001b[0;34m=\u001b[0m \u001b[0minit_dict\u001b[0m\u001b[0;34m(\u001b[0m\u001b[0;34m{\u001b[0m\u001b[0mdata\u001b[0m\u001b[0;34m.\u001b[0m\u001b[0mname\u001b[0m\u001b[0;34m:\u001b[0m \u001b[0mdata\u001b[0m\u001b[0;34m}\u001b[0m\u001b[0;34m,\u001b[0m \u001b[0mindex\u001b[0m\u001b[0;34m,\u001b[0m \u001b[0mcolumns\u001b[0m\u001b[0;34m,\u001b[0m \u001b[0mdtype\u001b[0m\u001b[0;34m=\u001b[0m\u001b[0mdtype\u001b[0m\u001b[0;34m)\u001b[0m\u001b[0;34m\u001b[0m\u001b[0;34m\u001b[0m\u001b[0m\n\u001b[1;32m    439\u001b[0m             \u001b[0;32melse\u001b[0m\u001b[0;34m:\u001b[0m\u001b[0;34m\u001b[0m\u001b[0;34m\u001b[0m\u001b[0m\n\u001b[0;32m--> 440\u001b[0;31m                 \u001b[0mmgr\u001b[0m \u001b[0;34m=\u001b[0m \u001b[0minit_ndarray\u001b[0m\u001b[0;34m(\u001b[0m\u001b[0mdata\u001b[0m\u001b[0;34m,\u001b[0m \u001b[0mindex\u001b[0m\u001b[0;34m,\u001b[0m \u001b[0mcolumns\u001b[0m\u001b[0;34m,\u001b[0m \u001b[0mdtype\u001b[0m\u001b[0;34m=\u001b[0m\u001b[0mdtype\u001b[0m\u001b[0;34m,\u001b[0m \u001b[0mcopy\u001b[0m\u001b[0;34m=\u001b[0m\u001b[0mcopy\u001b[0m\u001b[0;34m)\u001b[0m\u001b[0;34m\u001b[0m\u001b[0;34m\u001b[0m\u001b[0m\n\u001b[0m\u001b[1;32m    441\u001b[0m \u001b[0;34m\u001b[0m\u001b[0m\n\u001b[1;32m    442\u001b[0m         \u001b[0;31m# For data is list-like, or Iterable (will consume into list)\u001b[0m\u001b[0;34m\u001b[0m\u001b[0;34m\u001b[0m\u001b[0;34m\u001b[0m\u001b[0m\n",
      "\u001b[0;32m~/opt/anaconda3/lib/python3.7/site-packages/pandas/core/internals/construction.py\u001b[0m in \u001b[0;36minit_ndarray\u001b[0;34m(values, index, columns, dtype, copy)\u001b[0m\n\u001b[1;32m    211\u001b[0m         \u001b[0mblock_values\u001b[0m \u001b[0;34m=\u001b[0m \u001b[0;34m[\u001b[0m\u001b[0mvalues\u001b[0m\u001b[0;34m]\u001b[0m\u001b[0;34m\u001b[0m\u001b[0;34m\u001b[0m\u001b[0m\n\u001b[1;32m    212\u001b[0m \u001b[0;34m\u001b[0m\u001b[0m\n\u001b[0;32m--> 213\u001b[0;31m     \u001b[0;32mreturn\u001b[0m \u001b[0mcreate_block_manager_from_blocks\u001b[0m\u001b[0;34m(\u001b[0m\u001b[0mblock_values\u001b[0m\u001b[0;34m,\u001b[0m \u001b[0;34m[\u001b[0m\u001b[0mcolumns\u001b[0m\u001b[0;34m,\u001b[0m \u001b[0mindex\u001b[0m\u001b[0;34m]\u001b[0m\u001b[0;34m)\u001b[0m\u001b[0;34m\u001b[0m\u001b[0;34m\u001b[0m\u001b[0m\n\u001b[0m\u001b[1;32m    214\u001b[0m \u001b[0;34m\u001b[0m\u001b[0m\n\u001b[1;32m    215\u001b[0m \u001b[0;34m\u001b[0m\u001b[0m\n",
      "\u001b[0;32m~/opt/anaconda3/lib/python3.7/site-packages/pandas/core/internals/managers.py\u001b[0m in \u001b[0;36mcreate_block_manager_from_blocks\u001b[0;34m(blocks, axes)\u001b[0m\n\u001b[1;32m   1686\u001b[0m         \u001b[0mblocks\u001b[0m \u001b[0;34m=\u001b[0m \u001b[0;34m[\u001b[0m\u001b[0mgetattr\u001b[0m\u001b[0;34m(\u001b[0m\u001b[0mb\u001b[0m\u001b[0;34m,\u001b[0m \u001b[0;34m\"values\"\u001b[0m\u001b[0;34m,\u001b[0m \u001b[0mb\u001b[0m\u001b[0;34m)\u001b[0m \u001b[0;32mfor\u001b[0m \u001b[0mb\u001b[0m \u001b[0;32min\u001b[0m \u001b[0mblocks\u001b[0m\u001b[0;34m]\u001b[0m\u001b[0;34m\u001b[0m\u001b[0;34m\u001b[0m\u001b[0m\n\u001b[1;32m   1687\u001b[0m         \u001b[0mtot_items\u001b[0m \u001b[0;34m=\u001b[0m \u001b[0msum\u001b[0m\u001b[0;34m(\u001b[0m\u001b[0mb\u001b[0m\u001b[0;34m.\u001b[0m\u001b[0mshape\u001b[0m\u001b[0;34m[\u001b[0m\u001b[0;36m0\u001b[0m\u001b[0;34m]\u001b[0m \u001b[0;32mfor\u001b[0m \u001b[0mb\u001b[0m \u001b[0;32min\u001b[0m \u001b[0mblocks\u001b[0m\u001b[0;34m)\u001b[0m\u001b[0;34m\u001b[0m\u001b[0;34m\u001b[0m\u001b[0m\n\u001b[0;32m-> 1688\u001b[0;31m         \u001b[0mconstruction_error\u001b[0m\u001b[0;34m(\u001b[0m\u001b[0mtot_items\u001b[0m\u001b[0;34m,\u001b[0m \u001b[0mblocks\u001b[0m\u001b[0;34m[\u001b[0m\u001b[0;36m0\u001b[0m\u001b[0;34m]\u001b[0m\u001b[0;34m.\u001b[0m\u001b[0mshape\u001b[0m\u001b[0;34m[\u001b[0m\u001b[0;36m1\u001b[0m\u001b[0;34m:\u001b[0m\u001b[0;34m]\u001b[0m\u001b[0;34m,\u001b[0m \u001b[0maxes\u001b[0m\u001b[0;34m,\u001b[0m \u001b[0me\u001b[0m\u001b[0;34m)\u001b[0m\u001b[0;34m\u001b[0m\u001b[0;34m\u001b[0m\u001b[0m\n\u001b[0m\u001b[1;32m   1689\u001b[0m \u001b[0;34m\u001b[0m\u001b[0m\n\u001b[1;32m   1690\u001b[0m \u001b[0;34m\u001b[0m\u001b[0m\n",
      "\u001b[0;32m~/opt/anaconda3/lib/python3.7/site-packages/pandas/core/internals/managers.py\u001b[0m in \u001b[0;36mconstruction_error\u001b[0;34m(tot_items, block_shape, axes, e)\u001b[0m\n\u001b[1;32m   1717\u001b[0m         \u001b[0;32mraise\u001b[0m \u001b[0mValueError\u001b[0m\u001b[0;34m(\u001b[0m\u001b[0;34m\"Empty data passed with indices specified.\"\u001b[0m\u001b[0;34m)\u001b[0m\u001b[0;34m\u001b[0m\u001b[0;34m\u001b[0m\u001b[0m\n\u001b[1;32m   1718\u001b[0m     raise ValueError(\n\u001b[0;32m-> 1719\u001b[0;31m         \u001b[0;34m\"Shape of passed values is {0}, indices imply {1}\"\u001b[0m\u001b[0;34m.\u001b[0m\u001b[0mformat\u001b[0m\u001b[0;34m(\u001b[0m\u001b[0mpassed\u001b[0m\u001b[0;34m,\u001b[0m \u001b[0mimplied\u001b[0m\u001b[0;34m)\u001b[0m\u001b[0;34m\u001b[0m\u001b[0;34m\u001b[0m\u001b[0m\n\u001b[0m\u001b[1;32m   1720\u001b[0m     )\n\u001b[1;32m   1721\u001b[0m \u001b[0;34m\u001b[0m\u001b[0m\n",
      "\u001b[0;31mValueError\u001b[0m: Shape of passed values is (2, 1), indices imply (2, 2)"
     ]
    },
    {
     "data": {
      "image/png": "[encoded data removed]",
      "text/plain": [
       "<Figure size 432x288 with 1 Axes>"
      ]
     },
     "metadata": {
      "needs_background": "light"
     },
     "output_type": "display_data"
    }
   ],
   "source": [
    "num_correct_choice = np.zeros(300)\n",
    "y = []\n",
    "n = 20 #number of trials to calc average\n",
    "for file in files:\n",
    "    gfl = model.GameFromLog(file)\n",
    "    log = gfl.log\n",
    "    \n",
    "    yy = []\n",
    "    for i in range(299):\n",
    "        probs = np.array([log.prob_left[i], log.prob_middle[i], log.prob_right[i]])\n",
    "        if probs[choice2idx[log.choice[i]]] == max(probs):\n",
    "            num_correct_choice[i] += 1\n",
    "            yy.append(1)\n",
    "        else:\n",
    "            yy.append(0)\n",
    "    tmp = []\n",
    "    for i in range(len(yy)-n):\n",
    "        tmp.append(sum(yy[i:i+n])/(n+1))\n",
    "    if_correct.append(tmp)\n",
    "    \n",
    "xx = 100.0*num_correct_choice/len(files)\n",
    "x = []\n",
    "\n",
    "for i in range(len(xx)-n):\n",
    "    x.append(sum(xx[i:i+n]) / (n+1))\n",
    "sns.set_palette(\"Set2\")\n",
    "plt.plot(x)\n",
    "plt.rcParams[\"font.size\"] = 20\n",
    "plt.xlabel('trial')\n",
    "plt.ylabel('average probability of \\ncorrect choice (%)')\n",
    "plt.grid()\n",
    "\n",
    "idx = np.tile(np.arange(0,len(y)), len(files))\n",
    "df = pd.DataFrame(np.array([idx,y]).transpose(), columns=['trial', 'correct choice rate'])"
   ]
  },
  {
   "cell_type": "code",
   "execution_count": 63,
   "metadata": {},
   "outputs": [
    {
     "data": {
      "text/html": [
       "<div>\n",
       "<style scoped>\n",
       "    .dataframe tbody tr th:only-of-type {\n",
       "        vertical-align: middle;\n",
       "    }\n",
       "\n",
       "    .dataframe tbody tr th {\n",
       "        vertical-align: top;\n",
       "    }\n",
       "\n",
       "    .dataframe thead th {\n",
       "        text-align: right;\n",
       "    }\n",
       "</style>\n",
       "<table border=\"1\" class=\"dataframe\">\n",
       "  <thead>\n",
       "    <tr style=\"text-align: right;\">\n",
       "      <th></th>\n",
       "      <th>0</th>\n",
       "      <th>1</th>\n",
       "    </tr>\n",
       "  </thead>\n",
       "  <tbody>\n",
       "    <tr>\n",
       "      <td>0</td>\n",
       "      <td>0</td>\n",
       "      <td>0</td>\n",
       "    </tr>\n",
       "    <tr>\n",
       "      <td>1</td>\n",
       "      <td>1</td>\n",
       "      <td>0</td>\n",
       "    </tr>\n",
       "    <tr>\n",
       "      <td>2</td>\n",
       "      <td>2</td>\n",
       "      <td>1</td>\n",
       "    </tr>\n",
       "    <tr>\n",
       "      <td>3</td>\n",
       "      <td>3</td>\n",
       "      <td>1</td>\n",
       "    </tr>\n",
       "    <tr>\n",
       "      <td>4</td>\n",
       "      <td>4</td>\n",
       "      <td>1</td>\n",
       "    </tr>\n",
       "    <tr>\n",
       "      <td>...</td>\n",
       "      <td>...</td>\n",
       "      <td>...</td>\n",
       "    </tr>\n",
       "    <tr>\n",
       "      <td>3882</td>\n",
       "      <td>294</td>\n",
       "      <td>1</td>\n",
       "    </tr>\n",
       "    <tr>\n",
       "      <td>3883</td>\n",
       "      <td>295</td>\n",
       "      <td>1</td>\n",
       "    </tr>\n",
       "    <tr>\n",
       "      <td>3884</td>\n",
       "      <td>296</td>\n",
       "      <td>1</td>\n",
       "    </tr>\n",
       "    <tr>\n",
       "      <td>3885</td>\n",
       "      <td>297</td>\n",
       "      <td>1</td>\n",
       "    </tr>\n",
       "    <tr>\n",
       "      <td>3886</td>\n",
       "      <td>298</td>\n",
       "      <td>1</td>\n",
       "    </tr>\n",
       "  </tbody>\n",
       "</table>\n",
       "<p>3887 rows × 2 columns</p>\n",
       "</div>"
      ],
      "text/plain": [
       "        0  1\n",
       "0       0  0\n",
       "1       1  0\n",
       "2       2  1\n",
       "3       3  1\n",
       "4       4  1\n",
       "...   ... ..\n",
       "3882  294  1\n",
       "3883  295  1\n",
       "3884  296  1\n",
       "3885  297  1\n",
       "3886  298  1\n",
       "\n",
       "[3887 rows x 2 columns]"
      ]
     },
     "execution_count": 63,
     "metadata": {},
     "output_type": "execute_result"
    }
   ],
   "source": [
    "df = pd.DataFrame(np.array([idx,if_correct]).transpose(), columns=['idx', ])\n",
    "df"
   ]
  },
  {
   "cell_type": "code",
   "execution_count": null,
   "metadata": {},
   "outputs": [],
   "source": []
  },
  {
   "cell_type": "code",
   "execution_count": null,
   "metadata": {},
   "outputs": [],
   "source": []
  },
  {
   "cell_type": "markdown",
   "metadata": {},
   "source": [
    "# 順序で下の選択肢を選んでいないかどうか\n",
    "\n",
    "## 各columnの意味\n",
    "● n_competitive: 選択肢の順序を考慮した時に、明らかに当たり確率が高いものが存在しなかったtrial数。（ex. 濃い星二つ、などは、明らかに当たり確率が順序列より有意であることが分かるため、not-competitive）  \n",
    "● competitive_rate: competitiveなtrialの出現率。実験デザインでは85%に設定されているので、その前後であることの確認  \n",
    "● n_sum_of_order: 幾つの選択肢で迷うか。n_sum_of_order_1は、「一つの選択肢で迷うtrial」つまり順序列を考慮すると迷うはずのない選択肢の組み合わせが出現したtrialの回数  \n",
    "● inferior_choice: 順序列を考慮した時に、明らかに当たり確率が低い選択肢が選ばれている確率。これが大きいと、ルールの理解が不足している可能性が考えられる。  \n",
    "● best_prob_choice: 最も当たり確率が高い選択肢を選べていたtrial数。  \n",
    "● attraction_effect_choice_rate: attraction effectが生まれてしまったtrialの出現確率。つまり、2つの選択肢で迷うようなtrial　(sum(order)=2)において、劣る一つの選択肢の影響で、選択に影響を与えてしまった確率。  \n",
    "ex. op1>op3, op1=op2, op2=op3,の時に、op1が選ばれる確率。valueに基づいてop1が選ばれる確率は理論値50%なので、50%を有意に超えているかどうか、が議論の対象。  （実際は理論値は50%ではないので、計算が必要かもしれない。）\n"
   ]
  },
  {
   "cell_type": "code",
   "execution_count": 271,
   "metadata": {},
   "outputs": [],
   "source": [
    "class A:\n",
    "    def __init__(self):\n",
    "        self.score = 0\n",
    "        self.n_competitive = 0\n",
    "        self.competitive_choice = 0\n",
    "        self.n_sum_of_order = [0,0,0]\n",
    "        self.inferior_choice = 0\n",
    "        self.best_prob_choice = []\n",
    "        self.best_prob_choice_without_non_competitive = []\n",
    "        self.attraction_effect_choice_rate = 0\n",
    "        return\n",
    "    def my_print(self):\n",
    "        return([self.score,\n",
    "                self.n_competitive,\n",
    "                self.n_competitive / 3,\n",
    "                self.n_sum_of_order[0],\n",
    "                self.n_sum_of_order[1],\n",
    "                self.n_sum_of_order[2],\n",
    "                self.competitive_choice,\n",
    "                self.inferior_choice,\n",
    "                sum(self.best_prob_choice),\n",
    "                sum(self.best_prob_choice_without_non_competitive)/(self.n_sum_of_order[1]+self.n_sum_of_order[2])*100,\n",
    "                self.attraction_effect_choice_rate])\n",
    "def get_competitive_choice_history(file):\n",
    "    a = A()\n",
    "    gfl = model.GameFromLog(file)\n",
    "    log = gfl.log\n",
    "    orders = []\n",
    "    a.score = log.sum_score[299]\n",
    "    possible_trial_of_attraction_effect = 0\n",
    "    for i in range(300):\n",
    "        ops = [log.option_left[i], log.option_middle[i], log.option_right[i]]\n",
    "        probs = np.array([log.prob_left[i], log.prob_middle[i], log.prob_right[i]])\n",
    "        choice = choice2idx[log.choice[i]]\n",
    "\n",
    "        order = np.array(gfl.if_competitive(ops[0], ops[1], ops[2]))\n",
    "        orders.append(sum(order))\n",
    "        a.n_sum_of_order[sum(order) - 1] += 1\n",
    "        \n",
    "        if_best_prob_choice = (idx2choice[probs == max(probs)] == log.choice[i]).all()\n",
    "        a.best_prob_choice.append(if_best_prob_choice)\n",
    "        \n",
    "        if(sum(order) >= 2):\n",
    "            a.n_competitive = a.n_competitive + 1\n",
    "            a.best_prob_choice_without_non_competitive.append(if_best_prob_choice)\n",
    "        if(sum(order) == 2):\n",
    "            idxs = np.array([0,1,2])[order == 1]\n",
    "            inf_op = np.array([0,1,2])[order == 0][0]\n",
    "            \n",
    "            #print([idxs, inf_op])\n",
    "            #print(ops[inf_op])\n",
    "            #print(gfl.compare(ops[idxs[0]], ops[inf_op]))\n",
    "\n",
    "            if(gfl.compare(ops[idxs[0]], ops[inf_op]) == \"left_is_bigger\"):\n",
    "                if(gfl.compare(ops[idxs[1]], ops[inf_op]) == \"these_are_comparable\"):\n",
    "                    possible_trial_of_attraction_effect += 1\n",
    "                    if(choice == idxs[0]):\n",
    "                        a.attraction_effect_choice_rate += 1\n",
    "            if(gfl.compare(ops[idxs[0]], ops[inf_op]) == \"these_are_comparable\"):\n",
    "                if(gfl.compare(ops[idxs[1]], ops[inf_op]) == \"left_is_bigger\"):\n",
    "                    possible_trial_of_attraction_effect += 1\n",
    "                    if(choice == idxs[1]):\n",
    "                        a.attraction_effect_choice_rate += 1\n",
    "        if(order[choice] == 1):\n",
    "            a.competitive_choice = a.competitive_choice + 1\n",
    "            continue\n",
    "        a.inferior_choice = a.inferior_choice+1\n",
    "    a.attraction_effect_choice_rate = 100.0*a.attraction_effect_choice_rate/possible_trial_of_attraction_effect\n",
    "    return a.my_print()"
   ]
  },
  {
   "cell_type": "code",
   "execution_count": 273,
   "metadata": {
    "scrolled": true
   },
   "outputs": [
    {
     "name": "stdout",
     "output_type": "stream",
     "text": [
      "           score n_competitive  n_competitive_rate(%) n_sum_of_order_1  \\\n",
      "log/01.csv  1980           270              90.000000               30   \n",
      "log/02.csv  2020           277              92.333333               23   \n",
      "log/03.csv  1990           273              91.000000               27   \n",
      "log/04.csv  2030           268              89.333333               32   \n",
      "log/05.csv  1870           266              88.666667               34   \n",
      "log/06.csv  1870           278              92.666667               22   \n",
      "log/07.csv  2060           273              91.000000               27   \n",
      "log/08.csv  1880           273              91.000000               27   \n",
      "log/09.csv  1950           271              90.333333               29   \n",
      "log/10.csv  2020           260              86.666667               40   \n",
      "log/11.csv  1870           264              88.000000               36   \n",
      "log/12.csv  2080           260              86.666667               40   \n",
      "log/13.csv  2050           274              91.333333               26   \n",
      "log/14.csv  2000           276              92.000000               24   \n",
      "log/15.csv  1880           274              91.333333               26   \n",
      "\n",
      "           n_sum_of_order_2 n_sum_of_order_3 competitive_choice  \\\n",
      "log/01.csv              247               23                298   \n",
      "log/02.csv              261               16                258   \n",
      "log/03.csv              260               13                293   \n",
      "log/04.csv              245               23                300   \n",
      "log/05.csv              248               18                287   \n",
      "log/06.csv              258               20                299   \n",
      "log/07.csv              253               20                288   \n",
      "log/08.csv              257               16                224   \n",
      "log/09.csv              256               15                297   \n",
      "log/10.csv              234               26                289   \n",
      "log/11.csv              242               22                296   \n",
      "log/12.csv              240               20                297   \n",
      "log/13.csv              253               21                288   \n",
      "log/14.csv              258               18                299   \n",
      "log/15.csv              248               26                298   \n",
      "\n",
      "           inferior_choice best_prob_choice  \\\n",
      "log/01.csv               2              193   \n",
      "log/02.csv              42              187   \n",
      "log/03.csv               7              181   \n",
      "log/04.csv               0              211   \n",
      "log/05.csv              13              202   \n",
      "log/06.csv               1              189   \n",
      "log/07.csv              12              205   \n",
      "log/08.csv              76              160   \n",
      "log/09.csv               3              197   \n",
      "log/10.csv              11              211   \n",
      "log/11.csv               4              182   \n",
      "log/12.csv               3              217   \n",
      "log/13.csv              12              209   \n",
      "log/14.csv               1              195   \n",
      "log/15.csv               2              176   \n",
      "\n",
      "            best_prob_choice_rate_without_non_competitive(%)  \\\n",
      "log/01.csv                                         61.111111   \n",
      "log/02.csv                                         62.093863   \n",
      "log/03.csv                                         57.509158   \n",
      "log/04.csv                                         66.791045   \n",
      "log/05.csv                                         63.533835   \n",
      "log/06.csv                                         60.071942   \n",
      "log/07.csv                                         66.666667   \n",
      "log/08.csv                                         56.410256   \n",
      "log/09.csv                                         61.992620   \n",
      "log/10.csv                                         67.307692   \n",
      "log/11.csv                                         55.681818   \n",
      "log/12.csv                                         69.230769   \n",
      "log/13.csv                                         67.518248   \n",
      "log/14.csv                                         62.318841   \n",
      "log/15.csv                                         54.744526   \n",
      "\n",
      "            attraction_effect_choice_rate  \n",
      "log/01.csv                      61.344538  \n",
      "log/02.csv                      37.681159  \n",
      "log/03.csv                      67.460317  \n",
      "log/04.csv                      62.686567  \n",
      "log/05.csv                      65.000000  \n",
      "log/06.csv                      70.992366  \n",
      "log/07.csv                      67.768595  \n",
      "log/08.csv                      38.655462  \n",
      "log/09.csv                      72.950820  \n",
      "log/10.csv                      70.588235  \n",
      "log/11.csv                      70.542636  \n",
      "log/12.csv                      65.079365  \n",
      "log/13.csv                      60.550459  \n",
      "log/14.csv                      64.864865  \n",
      "log/15.csv                      59.523810  \n"
     ]
    }
   ],
   "source": [
    "columns = [\"score\", \"n_competitive\", \"n_competitive_rate(%)\",\n",
    "           \"n_sum_of_order_1\", \"n_sum_of_order_2\", \"n_sum_of_order_3\", \n",
    "           \"competitive_choice\", \"inferior_choice\", \n",
    "           \"best_prob_choice\",\"best_prob_choice_rate_without_non_competitive(%)\",\n",
    "           \"attraction_effect_choice_rate\"]\n",
    "df = pd.DataFrame(columns=columns)\n",
    "for file in files:\n",
    "    h = get_competitive_choice_history(file)\n",
    "    hdf = pd.DataFrame([h], columns=columns, index=[file])\n",
    "    df = df.append(hdf)\n",
    "print(df)\n",
    "#df.to_csv(\"init_anal.csv\")"
   ]
  },
  {
   "cell_type": "code",
   "execution_count": 6,
   "metadata": {},
   "outputs": [
    {
     "ename": "NameError",
     "evalue": "name 'df' is not defined",
     "output_type": "error",
     "traceback": [
      "\u001b[0;31m---------------------------------------------------------------------------\u001b[0m",
      "\u001b[0;31mNameError\u001b[0m                                 Traceback (most recent call last)",
      "\u001b[0;32m<ipython-input-6-1b674cec7d26>\u001b[0m in \u001b[0;36m<module>\u001b[0;34m\u001b[0m\n\u001b[0;32m----> 1\u001b[0;31m \u001b[0mdf\u001b[0m\u001b[0;34m.\u001b[0m\u001b[0mto_csv\u001b[0m\u001b[0;34m(\u001b[0m\u001b[0;34m\"init_anal.csv\"\u001b[0m\u001b[0;34m)\u001b[0m\u001b[0;34m\u001b[0m\u001b[0;34m\u001b[0m\u001b[0m\n\u001b[0m",
      "\u001b[0;31mNameError\u001b[0m: name 'df' is not defined"
     ]
    }
   ],
   "source": [
    "df.to_csv(\"init_anal.csv\")"
   ]
  },
  {
   "cell_type": "markdown",
   "metadata": {},
   "source": [
    "## ここまでと、fittingを受けた所見\n",
    "fittingのbetaの値が大きすぎる。\n",
    "best_prob_choiceがせいぜい70%, 低い時には60%くらいなので、\n",
    "betaがそこまで大きくなっていると、30%のぶんのトライアルでLLが下がりそうなものなのだが。\n",
    "\n",
    "LLの取り方がよろしくないのだろうか。"
   ]
  },
  {
   "cell_type": "markdown",
   "metadata": {},
   "source": [
    "# Fittingのデータの簡易分析"
   ]
  },
  {
   "cell_type": "code",
   "execution_count": 48,
   "metadata": {},
   "outputs": [
    {
     "data": {
      "image/png": "[encoded data removed]",
      "text/plain": [
       "<Figure size 432x288 with 1 Axes>"
      ]
     },
     "metadata": {
      "needs_background": "light"
     },
     "output_type": "display_data"
    }
   ],
   "source": [
    "# 順序の小さい刺激を選んだ回数\n",
    "df = pd.read_csv('init_anal.csv')\n",
    "sns.distplot(df.inferior_choice,hist_kws={'align':'mid','density':True}, bins=16)\n",
    "plt.yticks([0,.028,.056,.084,.112], [\"0\",\"2\",\"4\",\"6\",\"8\"])\n",
    "\n",
    "plt.xlim([-3,80])\n",
    "plt.ylabel('num of participants')\n",
    "plt.xlabel('the number of apparently smaller order choice')\n",
    "plt.grid()"
   ]
  },
  {
   "cell_type": "code",
   "execution_count": null,
   "metadata": {},
   "outputs": [],
   "source": []
  },
  {
   "cell_type": "code",
   "execution_count": null,
   "metadata": {},
   "outputs": [],
   "source": []
  },
  {
   "cell_type": "code",
   "execution_count": null,
   "metadata": {},
   "outputs": [],
   "source": []
  },
  {
   "cell_type": "code",
   "execution_count": null,
   "metadata": {},
   "outputs": [],
   "source": []
  },
  {
   "cell_type": "code",
   "execution_count": null,
   "metadata": {},
   "outputs": [],
   "source": []
  },
  {
   "cell_type": "code",
   "execution_count": null,
   "metadata": {},
   "outputs": [],
   "source": []
  },
  {
   "cell_type": "code",
   "execution_count": null,
   "metadata": {},
   "outputs": [],
   "source": []
  }
 ],
 "metadata": {
  "kernelspec": {
   "display_name": "Python 3",
   "language": "python",
   "name": "python3"
  },
  "language_info": {
   "codemirror_mode": {
    "name": "ipython",
    "version": 3
   },
   "file_extension": ".py",
   "mimetype": "text/x-python",
   "name": "python",
   "nbconvert_exporter": "python",
   "pygments_lexer": "ipython3",
   "version": "3.7.4"
  }
 },
 "nbformat": 4,
 "nbformat_minor": 2
}
